{
 "cells": [
  {
   "cell_type": "markdown",
   "metadata": {},
   "source": [
    "<div style=\"border:solid white 2px; padding: 20px\">\n",
    "\n",
    "**Описание проекта**\n",
    "    \n",
    "Требуется провести анализ оттока клиентов и подготовить план действий по удержанию клиентов. А именно: научиться прогнозировать вероятность оттока (на уровне следующего месяца) для каждого клиента; сформировать типичные портреты клиентов: выделить несколько наиболее ярких групп и охарактеризовать их основные свойства; проанализировать основные признаки, наиболее сильно влияющие на отток; сформулировать основные выводы и разработать рекомендации по повышению качества работы с клиентами:\n",
    "    \n",
    "    1) выделить целевые группы клиентов;\n",
    "    \n",
    "    2) предложить меры по снижению оттока;\n",
    "    \n",
    "    3) определить другие особенности взаимодействия с клиентами."
   ]
  },
  {
   "cell_type": "markdown",
   "metadata": {},
   "source": [
    "<div style=\"border:solid white 2px; padding: 20px\">\n",
    "\n",
    "**Описание данных**\n",
    "    \n",
    "    - Данные клиента за предыдущий до проверки факта оттока месяц:\n",
    " - 'gender' — пол;\n",
    " - 'Partner' — сотрудник компании-партнёра клуба (сотрудничество с компаниями, чьи сотрудники могут получать скидки на абонемент — в таком случае фитнес-центр хранит информацию о работодателе клиента);\n",
    " - 'Near_Location' — проживание или работа в районе, где находится фитнес-центр;\n",
    " - Promo_friends — факт первоначальной записи в рамках акции «приведи друга» (использовал промо-код от знакомого при оплате первого абонемента);\n",
    " - 'Phone' — наличие контактного телефона;\n",
    " - 'Age' — возраст;\n",
    " - 'Lifetime' — время с момента первого обращения в фитнес-центр (в месяцах).\n",
    "    - Информация на основе журнала посещений, покупок и информация о текущем статусе абонемента клиента:\n",
    " - 'Contract_period' — длительность текущего действующего абонемента (месяц, 6 месяцев, год);\n",
    " - 'Group_visits' — факт посещения групповых занятий;\n",
    " - 'Avg_class_frequency_total' — средняя частота посещений в неделю за все время с начала действия абонемента;\n",
    " - 'Avg_class_frequency_current_month' — средняя частота посещений в неделю за предыдущий месяц;\n",
    " - 'Avg_additional_charges_total' — суммарная выручка от других услуг фитнес-центра: кафе, спорттовары, косметический и массажный салон.\n",
    " - 'Churn' — факт оттока в текущем месяце."
   ]
  },
  {
   "cell_type": "code",
   "execution_count": 2,
   "metadata": {},
   "outputs": [],
   "source": [
    "import pandas as pd\n",
    "import seaborn as sns\n",
    "import matplotlib.pyplot as plt\n",
    "from sklearn.linear_model import LogisticRegression\n",
    "from sklearn.ensemble import RandomForestClassifier\n",
    "from sklearn.metrics import accuracy_score, precision_score, recall_score, f1_score\n",
    "from sklearn.preprocessing import StandardScaler\n",
    "from sklearn.model_selection import train_test_split\n",
    "from scipy.cluster.hierarchy import dendrogram, linkage\n",
    "from sklearn.cluster import KMeans"
   ]
  },
  {
   "cell_type": "markdown",
   "metadata": {},
   "source": [
    "## Обзор данных"
   ]
  },
  {
   "cell_type": "code",
   "execution_count": 4,
   "metadata": {},
   "outputs": [],
   "source": [
    "def data_overview(data):\n",
    "    print('Обзор таблицы')\n",
    "    print('')\n",
    "    print('')\n",
    "    print('Первые 5 строк')\n",
    "    display(data.head())\n",
    "    print('')\n",
    "    print('')\n",
    "    print('Произвольные 5 строк')\n",
    "    display(data.sample(5))\n",
    "    print('')\n",
    "    print('')\n",
    "    print('Последние 5 строк')\n",
    "    display(data.tail())\n",
    "    print('')\n",
    "    print('')\n",
    "    print('Размер таблицы')\n",
    "    display(data.shape)\n",
    "    print('Информация о пропусках и типах данных')\n",
    "    print('')\n",
    "    display(data.info())\n",
    "    print('')\n",
    "    print('')\n",
    "    print('Наличие дубликатов')\n",
    "    if data.duplicated().sum() > 0:\n",
    "        print('Дубликатов: ', data.duplicated().sum())\n",
    "    else:\n",
    "        print('Дубликатов НЕТ')"
   ]
  },
  {
   "cell_type": "code",
   "execution_count": 5,
   "metadata": {},
   "outputs": [
    {
     "name": "stdout",
     "output_type": "stream",
     "text": [
      "Обзор таблицы\n",
      "\n",
      "\n",
      "Первые 5 строк\n"
     ]
    },
    {
     "data": {
      "text/html": [
       "<div>\n",
       "<style scoped>\n",
       "    .dataframe tbody tr th:only-of-type {\n",
       "        vertical-align: middle;\n",
       "    }\n",
       "\n",
       "    .dataframe tbody tr th {\n",
       "        vertical-align: top;\n",
       "    }\n",
       "\n",
       "    .dataframe thead th {\n",
       "        text-align: right;\n",
       "    }\n",
       "</style>\n",
       "<table border=\"1\" class=\"dataframe\">\n",
       "  <thead>\n",
       "    <tr style=\"text-align: right;\">\n",
       "      <th></th>\n",
       "      <th>gender</th>\n",
       "      <th>Near_Location</th>\n",
       "      <th>Partner</th>\n",
       "      <th>Promo_friends</th>\n",
       "      <th>Phone</th>\n",
       "      <th>Contract_period</th>\n",
       "      <th>Group_visits</th>\n",
       "      <th>Age</th>\n",
       "      <th>Avg_additional_charges_total</th>\n",
       "      <th>Month_to_end_contract</th>\n",
       "      <th>Lifetime</th>\n",
       "      <th>Avg_class_frequency_total</th>\n",
       "      <th>Avg_class_frequency_current_month</th>\n",
       "      <th>Churn</th>\n",
       "    </tr>\n",
       "  </thead>\n",
       "  <tbody>\n",
       "    <tr>\n",
       "      <th>0</th>\n",
       "      <td>1</td>\n",
       "      <td>1</td>\n",
       "      <td>1</td>\n",
       "      <td>1</td>\n",
       "      <td>0</td>\n",
       "      <td>6</td>\n",
       "      <td>1</td>\n",
       "      <td>29</td>\n",
       "      <td>14.227470</td>\n",
       "      <td>5.0</td>\n",
       "      <td>3</td>\n",
       "      <td>0.020398</td>\n",
       "      <td>0.000000</td>\n",
       "      <td>0</td>\n",
       "    </tr>\n",
       "    <tr>\n",
       "      <th>1</th>\n",
       "      <td>0</td>\n",
       "      <td>1</td>\n",
       "      <td>0</td>\n",
       "      <td>0</td>\n",
       "      <td>1</td>\n",
       "      <td>12</td>\n",
       "      <td>1</td>\n",
       "      <td>31</td>\n",
       "      <td>113.202938</td>\n",
       "      <td>12.0</td>\n",
       "      <td>7</td>\n",
       "      <td>1.922936</td>\n",
       "      <td>1.910244</td>\n",
       "      <td>0</td>\n",
       "    </tr>\n",
       "    <tr>\n",
       "      <th>2</th>\n",
       "      <td>0</td>\n",
       "      <td>1</td>\n",
       "      <td>1</td>\n",
       "      <td>0</td>\n",
       "      <td>1</td>\n",
       "      <td>1</td>\n",
       "      <td>0</td>\n",
       "      <td>28</td>\n",
       "      <td>129.448479</td>\n",
       "      <td>1.0</td>\n",
       "      <td>2</td>\n",
       "      <td>1.859098</td>\n",
       "      <td>1.736502</td>\n",
       "      <td>0</td>\n",
       "    </tr>\n",
       "    <tr>\n",
       "      <th>3</th>\n",
       "      <td>0</td>\n",
       "      <td>1</td>\n",
       "      <td>1</td>\n",
       "      <td>1</td>\n",
       "      <td>1</td>\n",
       "      <td>12</td>\n",
       "      <td>1</td>\n",
       "      <td>33</td>\n",
       "      <td>62.669863</td>\n",
       "      <td>12.0</td>\n",
       "      <td>2</td>\n",
       "      <td>3.205633</td>\n",
       "      <td>3.357215</td>\n",
       "      <td>0</td>\n",
       "    </tr>\n",
       "    <tr>\n",
       "      <th>4</th>\n",
       "      <td>1</td>\n",
       "      <td>1</td>\n",
       "      <td>1</td>\n",
       "      <td>1</td>\n",
       "      <td>1</td>\n",
       "      <td>1</td>\n",
       "      <td>0</td>\n",
       "      <td>26</td>\n",
       "      <td>198.362265</td>\n",
       "      <td>1.0</td>\n",
       "      <td>3</td>\n",
       "      <td>1.113884</td>\n",
       "      <td>1.120078</td>\n",
       "      <td>0</td>\n",
       "    </tr>\n",
       "  </tbody>\n",
       "</table>\n",
       "</div>"
      ],
      "text/plain": [
       "   gender  Near_Location  Partner  Promo_friends  Phone  Contract_period  \\\n",
       "0       1              1        1              1      0                6   \n",
       "1       0              1        0              0      1               12   \n",
       "2       0              1        1              0      1                1   \n",
       "3       0              1        1              1      1               12   \n",
       "4       1              1        1              1      1                1   \n",
       "\n",
       "   Group_visits  Age  Avg_additional_charges_total  Month_to_end_contract  \\\n",
       "0             1   29                     14.227470                    5.0   \n",
       "1             1   31                    113.202938                   12.0   \n",
       "2             0   28                    129.448479                    1.0   \n",
       "3             1   33                     62.669863                   12.0   \n",
       "4             0   26                    198.362265                    1.0   \n",
       "\n",
       "   Lifetime  Avg_class_frequency_total  Avg_class_frequency_current_month  \\\n",
       "0         3                   0.020398                           0.000000   \n",
       "1         7                   1.922936                           1.910244   \n",
       "2         2                   1.859098                           1.736502   \n",
       "3         2                   3.205633                           3.357215   \n",
       "4         3                   1.113884                           1.120078   \n",
       "\n",
       "   Churn  \n",
       "0      0  \n",
       "1      0  \n",
       "2      0  \n",
       "3      0  \n",
       "4      0  "
      ]
     },
     "metadata": {},
     "output_type": "display_data"
    },
    {
     "name": "stdout",
     "output_type": "stream",
     "text": [
      "\n",
      "\n",
      "Произвольные 5 строк\n"
     ]
    },
    {
     "data": {
      "text/html": [
       "<div>\n",
       "<style scoped>\n",
       "    .dataframe tbody tr th:only-of-type {\n",
       "        vertical-align: middle;\n",
       "    }\n",
       "\n",
       "    .dataframe tbody tr th {\n",
       "        vertical-align: top;\n",
       "    }\n",
       "\n",
       "    .dataframe thead th {\n",
       "        text-align: right;\n",
       "    }\n",
       "</style>\n",
       "<table border=\"1\" class=\"dataframe\">\n",
       "  <thead>\n",
       "    <tr style=\"text-align: right;\">\n",
       "      <th></th>\n",
       "      <th>gender</th>\n",
       "      <th>Near_Location</th>\n",
       "      <th>Partner</th>\n",
       "      <th>Promo_friends</th>\n",
       "      <th>Phone</th>\n",
       "      <th>Contract_period</th>\n",
       "      <th>Group_visits</th>\n",
       "      <th>Age</th>\n",
       "      <th>Avg_additional_charges_total</th>\n",
       "      <th>Month_to_end_contract</th>\n",
       "      <th>Lifetime</th>\n",
       "      <th>Avg_class_frequency_total</th>\n",
       "      <th>Avg_class_frequency_current_month</th>\n",
       "      <th>Churn</th>\n",
       "    </tr>\n",
       "  </thead>\n",
       "  <tbody>\n",
       "    <tr>\n",
       "      <th>1646</th>\n",
       "      <td>1</td>\n",
       "      <td>0</td>\n",
       "      <td>0</td>\n",
       "      <td>0</td>\n",
       "      <td>1</td>\n",
       "      <td>1</td>\n",
       "      <td>0</td>\n",
       "      <td>30</td>\n",
       "      <td>7.987912</td>\n",
       "      <td>1.0</td>\n",
       "      <td>2</td>\n",
       "      <td>1.914342</td>\n",
       "      <td>1.501592</td>\n",
       "      <td>1</td>\n",
       "    </tr>\n",
       "    <tr>\n",
       "      <th>1178</th>\n",
       "      <td>0</td>\n",
       "      <td>1</td>\n",
       "      <td>0</td>\n",
       "      <td>0</td>\n",
       "      <td>1</td>\n",
       "      <td>1</td>\n",
       "      <td>0</td>\n",
       "      <td>26</td>\n",
       "      <td>306.916930</td>\n",
       "      <td>1.0</td>\n",
       "      <td>1</td>\n",
       "      <td>0.671913</td>\n",
       "      <td>1.140868</td>\n",
       "      <td>1</td>\n",
       "    </tr>\n",
       "    <tr>\n",
       "      <th>62</th>\n",
       "      <td>0</td>\n",
       "      <td>1</td>\n",
       "      <td>1</td>\n",
       "      <td>1</td>\n",
       "      <td>0</td>\n",
       "      <td>6</td>\n",
       "      <td>0</td>\n",
       "      <td>34</td>\n",
       "      <td>72.641112</td>\n",
       "      <td>6.0</td>\n",
       "      <td>2</td>\n",
       "      <td>0.000000</td>\n",
       "      <td>0.000000</td>\n",
       "      <td>0</td>\n",
       "    </tr>\n",
       "    <tr>\n",
       "      <th>145</th>\n",
       "      <td>0</td>\n",
       "      <td>0</td>\n",
       "      <td>1</td>\n",
       "      <td>0</td>\n",
       "      <td>1</td>\n",
       "      <td>1</td>\n",
       "      <td>0</td>\n",
       "      <td>22</td>\n",
       "      <td>66.706150</td>\n",
       "      <td>1.0</td>\n",
       "      <td>3</td>\n",
       "      <td>1.853268</td>\n",
       "      <td>2.075719</td>\n",
       "      <td>1</td>\n",
       "    </tr>\n",
       "    <tr>\n",
       "      <th>2537</th>\n",
       "      <td>0</td>\n",
       "      <td>1</td>\n",
       "      <td>0</td>\n",
       "      <td>0</td>\n",
       "      <td>1</td>\n",
       "      <td>1</td>\n",
       "      <td>0</td>\n",
       "      <td>33</td>\n",
       "      <td>253.242704</td>\n",
       "      <td>1.0</td>\n",
       "      <td>3</td>\n",
       "      <td>1.306742</td>\n",
       "      <td>1.447407</td>\n",
       "      <td>0</td>\n",
       "    </tr>\n",
       "  </tbody>\n",
       "</table>\n",
       "</div>"
      ],
      "text/plain": [
       "      gender  Near_Location  Partner  Promo_friends  Phone  Contract_period  \\\n",
       "1646       1              0        0              0      1                1   \n",
       "1178       0              1        0              0      1                1   \n",
       "62         0              1        1              1      0                6   \n",
       "145        0              0        1              0      1                1   \n",
       "2537       0              1        0              0      1                1   \n",
       "\n",
       "      Group_visits  Age  Avg_additional_charges_total  Month_to_end_contract  \\\n",
       "1646             0   30                      7.987912                    1.0   \n",
       "1178             0   26                    306.916930                    1.0   \n",
       "62               0   34                     72.641112                    6.0   \n",
       "145              0   22                     66.706150                    1.0   \n",
       "2537             0   33                    253.242704                    1.0   \n",
       "\n",
       "      Lifetime  Avg_class_frequency_total  Avg_class_frequency_current_month  \\\n",
       "1646         2                   1.914342                           1.501592   \n",
       "1178         1                   0.671913                           1.140868   \n",
       "62           2                   0.000000                           0.000000   \n",
       "145          3                   1.853268                           2.075719   \n",
       "2537         3                   1.306742                           1.447407   \n",
       "\n",
       "      Churn  \n",
       "1646      1  \n",
       "1178      1  \n",
       "62        0  \n",
       "145       1  \n",
       "2537      0  "
      ]
     },
     "metadata": {},
     "output_type": "display_data"
    },
    {
     "name": "stdout",
     "output_type": "stream",
     "text": [
      "\n",
      "\n",
      "Последние 5 строк\n"
     ]
    },
    {
     "data": {
      "text/html": [
       "<div>\n",
       "<style scoped>\n",
       "    .dataframe tbody tr th:only-of-type {\n",
       "        vertical-align: middle;\n",
       "    }\n",
       "\n",
       "    .dataframe tbody tr th {\n",
       "        vertical-align: top;\n",
       "    }\n",
       "\n",
       "    .dataframe thead th {\n",
       "        text-align: right;\n",
       "    }\n",
       "</style>\n",
       "<table border=\"1\" class=\"dataframe\">\n",
       "  <thead>\n",
       "    <tr style=\"text-align: right;\">\n",
       "      <th></th>\n",
       "      <th>gender</th>\n",
       "      <th>Near_Location</th>\n",
       "      <th>Partner</th>\n",
       "      <th>Promo_friends</th>\n",
       "      <th>Phone</th>\n",
       "      <th>Contract_period</th>\n",
       "      <th>Group_visits</th>\n",
       "      <th>Age</th>\n",
       "      <th>Avg_additional_charges_total</th>\n",
       "      <th>Month_to_end_contract</th>\n",
       "      <th>Lifetime</th>\n",
       "      <th>Avg_class_frequency_total</th>\n",
       "      <th>Avg_class_frequency_current_month</th>\n",
       "      <th>Churn</th>\n",
       "    </tr>\n",
       "  </thead>\n",
       "  <tbody>\n",
       "    <tr>\n",
       "      <th>3995</th>\n",
       "      <td>1</td>\n",
       "      <td>1</td>\n",
       "      <td>1</td>\n",
       "      <td>0</td>\n",
       "      <td>1</td>\n",
       "      <td>12</td>\n",
       "      <td>0</td>\n",
       "      <td>33</td>\n",
       "      <td>2.406023</td>\n",
       "      <td>12.0</td>\n",
       "      <td>8</td>\n",
       "      <td>2.284497</td>\n",
       "      <td>2.349070</td>\n",
       "      <td>0</td>\n",
       "    </tr>\n",
       "    <tr>\n",
       "      <th>3996</th>\n",
       "      <td>0</td>\n",
       "      <td>1</td>\n",
       "      <td>0</td>\n",
       "      <td>0</td>\n",
       "      <td>1</td>\n",
       "      <td>1</td>\n",
       "      <td>1</td>\n",
       "      <td>29</td>\n",
       "      <td>68.883764</td>\n",
       "      <td>1.0</td>\n",
       "      <td>1</td>\n",
       "      <td>1.277168</td>\n",
       "      <td>0.292859</td>\n",
       "      <td>1</td>\n",
       "    </tr>\n",
       "    <tr>\n",
       "      <th>3997</th>\n",
       "      <td>1</td>\n",
       "      <td>1</td>\n",
       "      <td>1</td>\n",
       "      <td>1</td>\n",
       "      <td>1</td>\n",
       "      <td>12</td>\n",
       "      <td>0</td>\n",
       "      <td>28</td>\n",
       "      <td>78.250542</td>\n",
       "      <td>11.0</td>\n",
       "      <td>2</td>\n",
       "      <td>2.786146</td>\n",
       "      <td>2.831439</td>\n",
       "      <td>0</td>\n",
       "    </tr>\n",
       "    <tr>\n",
       "      <th>3998</th>\n",
       "      <td>0</td>\n",
       "      <td>1</td>\n",
       "      <td>1</td>\n",
       "      <td>1</td>\n",
       "      <td>1</td>\n",
       "      <td>6</td>\n",
       "      <td>0</td>\n",
       "      <td>32</td>\n",
       "      <td>61.912657</td>\n",
       "      <td>5.0</td>\n",
       "      <td>3</td>\n",
       "      <td>1.630108</td>\n",
       "      <td>1.596237</td>\n",
       "      <td>0</td>\n",
       "    </tr>\n",
       "    <tr>\n",
       "      <th>3999</th>\n",
       "      <td>1</td>\n",
       "      <td>0</td>\n",
       "      <td>1</td>\n",
       "      <td>0</td>\n",
       "      <td>0</td>\n",
       "      <td>12</td>\n",
       "      <td>1</td>\n",
       "      <td>30</td>\n",
       "      <td>178.861814</td>\n",
       "      <td>12.0</td>\n",
       "      <td>1</td>\n",
       "      <td>1.101832</td>\n",
       "      <td>1.035270</td>\n",
       "      <td>0</td>\n",
       "    </tr>\n",
       "  </tbody>\n",
       "</table>\n",
       "</div>"
      ],
      "text/plain": [
       "      gender  Near_Location  Partner  Promo_friends  Phone  Contract_period  \\\n",
       "3995       1              1        1              0      1               12   \n",
       "3996       0              1        0              0      1                1   \n",
       "3997       1              1        1              1      1               12   \n",
       "3998       0              1        1              1      1                6   \n",
       "3999       1              0        1              0      0               12   \n",
       "\n",
       "      Group_visits  Age  Avg_additional_charges_total  Month_to_end_contract  \\\n",
       "3995             0   33                      2.406023                   12.0   \n",
       "3996             1   29                     68.883764                    1.0   \n",
       "3997             0   28                     78.250542                   11.0   \n",
       "3998             0   32                     61.912657                    5.0   \n",
       "3999             1   30                    178.861814                   12.0   \n",
       "\n",
       "      Lifetime  Avg_class_frequency_total  Avg_class_frequency_current_month  \\\n",
       "3995         8                   2.284497                           2.349070   \n",
       "3996         1                   1.277168                           0.292859   \n",
       "3997         2                   2.786146                           2.831439   \n",
       "3998         3                   1.630108                           1.596237   \n",
       "3999         1                   1.101832                           1.035270   \n",
       "\n",
       "      Churn  \n",
       "3995      0  \n",
       "3996      1  \n",
       "3997      0  \n",
       "3998      0  \n",
       "3999      0  "
      ]
     },
     "metadata": {},
     "output_type": "display_data"
    },
    {
     "name": "stdout",
     "output_type": "stream",
     "text": [
      "\n",
      "\n",
      "Размер таблицы\n"
     ]
    },
    {
     "data": {
      "text/plain": [
       "(4000, 14)"
      ]
     },
     "metadata": {},
     "output_type": "display_data"
    },
    {
     "name": "stdout",
     "output_type": "stream",
     "text": [
      "Информация о пропусках и типах данных\n",
      "\n",
      "<class 'pandas.core.frame.DataFrame'>\n",
      "RangeIndex: 4000 entries, 0 to 3999\n",
      "Data columns (total 14 columns):\n",
      " #   Column                             Non-Null Count  Dtype  \n",
      "---  ------                             --------------  -----  \n",
      " 0   gender                             4000 non-null   int64  \n",
      " 1   Near_Location                      4000 non-null   int64  \n",
      " 2   Partner                            4000 non-null   int64  \n",
      " 3   Promo_friends                      4000 non-null   int64  \n",
      " 4   Phone                              4000 non-null   int64  \n",
      " 5   Contract_period                    4000 non-null   int64  \n",
      " 6   Group_visits                       4000 non-null   int64  \n",
      " 7   Age                                4000 non-null   int64  \n",
      " 8   Avg_additional_charges_total       4000 non-null   float64\n",
      " 9   Month_to_end_contract              4000 non-null   float64\n",
      " 10  Lifetime                           4000 non-null   int64  \n",
      " 11  Avg_class_frequency_total          4000 non-null   float64\n",
      " 12  Avg_class_frequency_current_month  4000 non-null   float64\n",
      " 13  Churn                              4000 non-null   int64  \n",
      "dtypes: float64(4), int64(10)\n",
      "memory usage: 437.6 KB\n"
     ]
    },
    {
     "data": {
      "text/plain": [
       "None"
      ]
     },
     "metadata": {},
     "output_type": "display_data"
    },
    {
     "name": "stdout",
     "output_type": "stream",
     "text": [
      "\n",
      "\n",
      "Наличие дубликатов\n",
      "Дубликатов НЕТ\n"
     ]
    }
   ],
   "source": [
    "data_overview(df)"
   ]
  },
  {
   "cell_type": "markdown",
   "metadata": {},
   "source": [
    "Посмотрим на цeлевой признак"
   ]
  },
  {
   "cell_type": "code",
   "execution_count": 6,
   "metadata": {},
   "outputs": [
    {
     "data": {
      "text/plain": [
       "0    73.475\n",
       "1    26.525\n",
       "Name: Churn, dtype: float64"
      ]
     },
     "execution_count": 6,
     "metadata": {},
     "output_type": "execute_result"
    }
   ],
   "source": [
    "df['Churn'].value_counts(normalize = True)*100"
   ]
  },
  {
   "cell_type": "markdown",
   "metadata": {},
   "source": [
    "## Предобработка данных"
   ]
  },
  {
   "cell_type": "code",
   "execution_count": 7,
   "metadata": {},
   "outputs": [
    {
     "data": {
      "text/plain": [
       "Index(['gender', 'near_location', 'partner', 'promo_friends', 'phone',\n",
       "       'contract_period', 'group_visits', 'age',\n",
       "       'avg_additional_charges_total', 'month_to_end_contract', 'lifetime',\n",
       "       'avg_class_frequency_total', 'avg_class_frequency_current_month',\n",
       "       'churn'],\n",
       "      dtype='object')"
      ]
     },
     "execution_count": 7,
     "metadata": {},
     "output_type": "execute_result"
    }
   ],
   "source": [
    "#приведем названия столбцов к нижнему регистру\n",
    "df = df.rename(columns=str.lower)\n",
    "df.columns"
   ]
  },
  {
   "cell_type": "markdown",
   "metadata": {},
   "source": [
    "## Исследовательский анализ данных"
   ]
  },
  {
   "cell_type": "markdown",
   "metadata": {},
   "source": [
    "### Изучим средние значения и стандартные отклонения"
   ]
  },
  {
   "cell_type": "code",
   "execution_count": 8,
   "metadata": {},
   "outputs": [
    {
     "data": {
      "text/html": [
       "<div>\n",
       "<style scoped>\n",
       "    .dataframe tbody tr th:only-of-type {\n",
       "        vertical-align: middle;\n",
       "    }\n",
       "\n",
       "    .dataframe tbody tr th {\n",
       "        vertical-align: top;\n",
       "    }\n",
       "\n",
       "    .dataframe thead th {\n",
       "        text-align: right;\n",
       "    }\n",
       "</style>\n",
       "<table border=\"1\" class=\"dataframe\">\n",
       "  <thead>\n",
       "    <tr style=\"text-align: right;\">\n",
       "      <th></th>\n",
       "      <th>count</th>\n",
       "      <th>mean</th>\n",
       "      <th>std</th>\n",
       "      <th>min</th>\n",
       "      <th>25%</th>\n",
       "      <th>50%</th>\n",
       "      <th>75%</th>\n",
       "      <th>max</th>\n",
       "    </tr>\n",
       "  </thead>\n",
       "  <tbody>\n",
       "    <tr>\n",
       "      <th>gender</th>\n",
       "      <td>4000.0</td>\n",
       "      <td>0.510250</td>\n",
       "      <td>0.499957</td>\n",
       "      <td>0.000000</td>\n",
       "      <td>0.000000</td>\n",
       "      <td>1.000000</td>\n",
       "      <td>1.000000</td>\n",
       "      <td>1.000000</td>\n",
       "    </tr>\n",
       "    <tr>\n",
       "      <th>near_location</th>\n",
       "      <td>4000.0</td>\n",
       "      <td>0.845250</td>\n",
       "      <td>0.361711</td>\n",
       "      <td>0.000000</td>\n",
       "      <td>1.000000</td>\n",
       "      <td>1.000000</td>\n",
       "      <td>1.000000</td>\n",
       "      <td>1.000000</td>\n",
       "    </tr>\n",
       "    <tr>\n",
       "      <th>partner</th>\n",
       "      <td>4000.0</td>\n",
       "      <td>0.486750</td>\n",
       "      <td>0.499887</td>\n",
       "      <td>0.000000</td>\n",
       "      <td>0.000000</td>\n",
       "      <td>0.000000</td>\n",
       "      <td>1.000000</td>\n",
       "      <td>1.000000</td>\n",
       "    </tr>\n",
       "    <tr>\n",
       "      <th>promo_friends</th>\n",
       "      <td>4000.0</td>\n",
       "      <td>0.308500</td>\n",
       "      <td>0.461932</td>\n",
       "      <td>0.000000</td>\n",
       "      <td>0.000000</td>\n",
       "      <td>0.000000</td>\n",
       "      <td>1.000000</td>\n",
       "      <td>1.000000</td>\n",
       "    </tr>\n",
       "    <tr>\n",
       "      <th>phone</th>\n",
       "      <td>4000.0</td>\n",
       "      <td>0.903500</td>\n",
       "      <td>0.295313</td>\n",
       "      <td>0.000000</td>\n",
       "      <td>1.000000</td>\n",
       "      <td>1.000000</td>\n",
       "      <td>1.000000</td>\n",
       "      <td>1.000000</td>\n",
       "    </tr>\n",
       "    <tr>\n",
       "      <th>contract_period</th>\n",
       "      <td>4000.0</td>\n",
       "      <td>4.681250</td>\n",
       "      <td>4.549706</td>\n",
       "      <td>1.000000</td>\n",
       "      <td>1.000000</td>\n",
       "      <td>1.000000</td>\n",
       "      <td>6.000000</td>\n",
       "      <td>12.000000</td>\n",
       "    </tr>\n",
       "    <tr>\n",
       "      <th>group_visits</th>\n",
       "      <td>4000.0</td>\n",
       "      <td>0.412250</td>\n",
       "      <td>0.492301</td>\n",
       "      <td>0.000000</td>\n",
       "      <td>0.000000</td>\n",
       "      <td>0.000000</td>\n",
       "      <td>1.000000</td>\n",
       "      <td>1.000000</td>\n",
       "    </tr>\n",
       "    <tr>\n",
       "      <th>age</th>\n",
       "      <td>4000.0</td>\n",
       "      <td>29.184250</td>\n",
       "      <td>3.258367</td>\n",
       "      <td>18.000000</td>\n",
       "      <td>27.000000</td>\n",
       "      <td>29.000000</td>\n",
       "      <td>31.000000</td>\n",
       "      <td>41.000000</td>\n",
       "    </tr>\n",
       "    <tr>\n",
       "      <th>avg_additional_charges_total</th>\n",
       "      <td>4000.0</td>\n",
       "      <td>146.943728</td>\n",
       "      <td>96.355602</td>\n",
       "      <td>0.148205</td>\n",
       "      <td>68.868830</td>\n",
       "      <td>136.220159</td>\n",
       "      <td>210.949625</td>\n",
       "      <td>552.590740</td>\n",
       "    </tr>\n",
       "    <tr>\n",
       "      <th>month_to_end_contract</th>\n",
       "      <td>4000.0</td>\n",
       "      <td>4.322750</td>\n",
       "      <td>4.191297</td>\n",
       "      <td>1.000000</td>\n",
       "      <td>1.000000</td>\n",
       "      <td>1.000000</td>\n",
       "      <td>6.000000</td>\n",
       "      <td>12.000000</td>\n",
       "    </tr>\n",
       "    <tr>\n",
       "      <th>lifetime</th>\n",
       "      <td>4000.0</td>\n",
       "      <td>3.724750</td>\n",
       "      <td>3.749267</td>\n",
       "      <td>0.000000</td>\n",
       "      <td>1.000000</td>\n",
       "      <td>3.000000</td>\n",
       "      <td>5.000000</td>\n",
       "      <td>31.000000</td>\n",
       "    </tr>\n",
       "    <tr>\n",
       "      <th>avg_class_frequency_total</th>\n",
       "      <td>4000.0</td>\n",
       "      <td>1.879020</td>\n",
       "      <td>0.972245</td>\n",
       "      <td>0.000000</td>\n",
       "      <td>1.180875</td>\n",
       "      <td>1.832768</td>\n",
       "      <td>2.536078</td>\n",
       "      <td>6.023668</td>\n",
       "    </tr>\n",
       "    <tr>\n",
       "      <th>avg_class_frequency_current_month</th>\n",
       "      <td>4000.0</td>\n",
       "      <td>1.767052</td>\n",
       "      <td>1.052906</td>\n",
       "      <td>0.000000</td>\n",
       "      <td>0.963003</td>\n",
       "      <td>1.719574</td>\n",
       "      <td>2.510336</td>\n",
       "      <td>6.146783</td>\n",
       "    </tr>\n",
       "    <tr>\n",
       "      <th>churn</th>\n",
       "      <td>4000.0</td>\n",
       "      <td>0.265250</td>\n",
       "      <td>0.441521</td>\n",
       "      <td>0.000000</td>\n",
       "      <td>0.000000</td>\n",
       "      <td>0.000000</td>\n",
       "      <td>1.000000</td>\n",
       "      <td>1.000000</td>\n",
       "    </tr>\n",
       "  </tbody>\n",
       "</table>\n",
       "</div>"
      ],
      "text/plain": [
       "                                    count        mean        std        min  \\\n",
       "gender                             4000.0    0.510250   0.499957   0.000000   \n",
       "near_location                      4000.0    0.845250   0.361711   0.000000   \n",
       "partner                            4000.0    0.486750   0.499887   0.000000   \n",
       "promo_friends                      4000.0    0.308500   0.461932   0.000000   \n",
       "phone                              4000.0    0.903500   0.295313   0.000000   \n",
       "contract_period                    4000.0    4.681250   4.549706   1.000000   \n",
       "group_visits                       4000.0    0.412250   0.492301   0.000000   \n",
       "age                                4000.0   29.184250   3.258367  18.000000   \n",
       "avg_additional_charges_total       4000.0  146.943728  96.355602   0.148205   \n",
       "month_to_end_contract              4000.0    4.322750   4.191297   1.000000   \n",
       "lifetime                           4000.0    3.724750   3.749267   0.000000   \n",
       "avg_class_frequency_total          4000.0    1.879020   0.972245   0.000000   \n",
       "avg_class_frequency_current_month  4000.0    1.767052   1.052906   0.000000   \n",
       "churn                              4000.0    0.265250   0.441521   0.000000   \n",
       "\n",
       "                                         25%         50%         75%  \\\n",
       "gender                              0.000000    1.000000    1.000000   \n",
       "near_location                       1.000000    1.000000    1.000000   \n",
       "partner                             0.000000    0.000000    1.000000   \n",
       "promo_friends                       0.000000    0.000000    1.000000   \n",
       "phone                               1.000000    1.000000    1.000000   \n",
       "contract_period                     1.000000    1.000000    6.000000   \n",
       "group_visits                        0.000000    0.000000    1.000000   \n",
       "age                                27.000000   29.000000   31.000000   \n",
       "avg_additional_charges_total       68.868830  136.220159  210.949625   \n",
       "month_to_end_contract               1.000000    1.000000    6.000000   \n",
       "lifetime                            1.000000    3.000000    5.000000   \n",
       "avg_class_frequency_total           1.180875    1.832768    2.536078   \n",
       "avg_class_frequency_current_month   0.963003    1.719574    2.510336   \n",
       "churn                               0.000000    0.000000    1.000000   \n",
       "\n",
       "                                          max  \n",
       "gender                               1.000000  \n",
       "near_location                        1.000000  \n",
       "partner                              1.000000  \n",
       "promo_friends                        1.000000  \n",
       "phone                                1.000000  \n",
       "contract_period                     12.000000  \n",
       "group_visits                         1.000000  \n",
       "age                                 41.000000  \n",
       "avg_additional_charges_total       552.590740  \n",
       "month_to_end_contract               12.000000  \n",
       "lifetime                            31.000000  \n",
       "avg_class_frequency_total            6.023668  \n",
       "avg_class_frequency_current_month    6.146783  \n",
       "churn                                1.000000  "
      ]
     },
     "execution_count": 8,
     "metadata": {},
     "output_type": "execute_result"
    }
   ],
   "source": [
    "df.describe().transpose()"
   ]
  },
  {
   "cell_type": "markdown",
   "metadata": {},
   "source": [
    "Как видно из таблицы, клиенты примерно поровну мужчин и женщин, в основном проживают или работают в районе, где находится фитнес-центр. Посетителей примерно поровну, кто является сотрудником компании-партнера, и кто не является, мало тех, кто использовал промо-код. Средний возраст 29 лет, медианное значение 29 лет, стандартное отклонение небольшое, поэтому разброс небольшой. Минимальный возраст 18 лет, максимальный 41. Длительность текущего абонимента в среднем 4,7 месяцев, но как мы видим стандартное отклонение большое, а медианное значение - 1 месяц. Так же и срок до окончания текущего абонимента в среднем чуть больше 4 месяцев, но при этом большое стандартное отклонение и медианное значение 1 месяц. То есть есть клиенты, которые еще не посетили фитнес-клуб. практически все клиенты оставляют свой контактный номер. В среднем частота посещений в неделю - 1, 2 раза, это видно как из среднего значения, так и из медианного. Групповые занятия посещают реже. Отток составляет около 26%."
   ]
  },
  {
   "cell_type": "markdown",
   "metadata": {},
   "source": [
    "### Посмотрим на средние значения признаков в двух группах — тех, кто ушел в отток и тех, кто остался"
   ]
  },
  {
   "cell_type": "code",
   "execution_count": 9,
   "metadata": {},
   "outputs": [
    {
     "data": {
      "text/html": [
       "<div>\n",
       "<style scoped>\n",
       "    .dataframe tbody tr th:only-of-type {\n",
       "        vertical-align: middle;\n",
       "    }\n",
       "\n",
       "    .dataframe tbody tr th {\n",
       "        vertical-align: top;\n",
       "    }\n",
       "\n",
       "    .dataframe thead th {\n",
       "        text-align: right;\n",
       "    }\n",
       "</style>\n",
       "<table border=\"1\" class=\"dataframe\">\n",
       "  <thead>\n",
       "    <tr style=\"text-align: right;\">\n",
       "      <th>churn</th>\n",
       "      <th>0</th>\n",
       "      <th>1</th>\n",
       "    </tr>\n",
       "  </thead>\n",
       "  <tbody>\n",
       "    <tr>\n",
       "      <th>gender</th>\n",
       "      <td>0.510037</td>\n",
       "      <td>0.510839</td>\n",
       "    </tr>\n",
       "    <tr>\n",
       "      <th>near_location</th>\n",
       "      <td>0.873086</td>\n",
       "      <td>0.768143</td>\n",
       "    </tr>\n",
       "    <tr>\n",
       "      <th>partner</th>\n",
       "      <td>0.534195</td>\n",
       "      <td>0.355325</td>\n",
       "    </tr>\n",
       "    <tr>\n",
       "      <th>promo_friends</th>\n",
       "      <td>0.353522</td>\n",
       "      <td>0.183789</td>\n",
       "    </tr>\n",
       "    <tr>\n",
       "      <th>phone</th>\n",
       "      <td>0.903709</td>\n",
       "      <td>0.902922</td>\n",
       "    </tr>\n",
       "    <tr>\n",
       "      <th>contract_period</th>\n",
       "      <td>5.747193</td>\n",
       "      <td>1.728558</td>\n",
       "    </tr>\n",
       "    <tr>\n",
       "      <th>group_visits</th>\n",
       "      <td>0.464103</td>\n",
       "      <td>0.268615</td>\n",
       "    </tr>\n",
       "    <tr>\n",
       "      <th>age</th>\n",
       "      <td>29.976523</td>\n",
       "      <td>26.989632</td>\n",
       "    </tr>\n",
       "    <tr>\n",
       "      <th>avg_additional_charges_total</th>\n",
       "      <td>158.445715</td>\n",
       "      <td>115.082899</td>\n",
       "    </tr>\n",
       "    <tr>\n",
       "      <th>month_to_end_contract</th>\n",
       "      <td>5.283089</td>\n",
       "      <td>1.662582</td>\n",
       "    </tr>\n",
       "    <tr>\n",
       "      <th>lifetime</th>\n",
       "      <td>4.711807</td>\n",
       "      <td>0.990575</td>\n",
       "    </tr>\n",
       "    <tr>\n",
       "      <th>avg_class_frequency_total</th>\n",
       "      <td>2.024876</td>\n",
       "      <td>1.474995</td>\n",
       "    </tr>\n",
       "    <tr>\n",
       "      <th>avg_class_frequency_current_month</th>\n",
       "      <td>2.027882</td>\n",
       "      <td>1.044546</td>\n",
       "    </tr>\n",
       "  </tbody>\n",
       "</table>\n",
       "</div>"
      ],
      "text/plain": [
       "churn                                       0           1\n",
       "gender                               0.510037    0.510839\n",
       "near_location                        0.873086    0.768143\n",
       "partner                              0.534195    0.355325\n",
       "promo_friends                        0.353522    0.183789\n",
       "phone                                0.903709    0.902922\n",
       "contract_period                      5.747193    1.728558\n",
       "group_visits                         0.464103    0.268615\n",
       "age                                 29.976523   26.989632\n",
       "avg_additional_charges_total       158.445715  115.082899\n",
       "month_to_end_contract                5.283089    1.662582\n",
       "lifetime                             4.711807    0.990575\n",
       "avg_class_frequency_total            2.024876    1.474995\n",
       "avg_class_frequency_current_month    2.027882    1.044546"
      ]
     },
     "execution_count": 9,
     "metadata": {},
     "output_type": "execute_result"
    }
   ],
   "source": [
    "df.groupby(['churn']).mean().transpose()"
   ]
  },
  {
   "cell_type": "markdown",
   "metadata": {},
   "source": [
    "Клиенты, которые остались, чаще живут или работают в районе, где находится фитнес центр (локация хоть и незначительно, но оказывает влияние). Чаще посетители является сотрудником компании-партнера и используют промо-код. Длительность абонемента около 6 месяцев, возраст примерно 30 лет. Лайфтам около 5 месяцев.\n",
    "\n",
    "Тех, кто не является сотрудником компании-партнером, уходит на примерно 20% больше, примерно такая же зависимость и при использовании промо-акции. Также чаще уходят те, у кото абонемент не более 2х месяцев, и у кого срок до окончания абонемента примерно 1,5 месяца, у кого лайфтайм в среднем месяц, то есть те, кто не успел задержаться. Возраст попадающих в отток в среднем 27 лет."
   ]
  },
  {
   "cell_type": "markdown",
   "metadata": {},
   "source": [
    "### Построим столбчатые гистограммы и распределения признаков для тех, кто ушёл (отток) и тех, кто остался (не попали в отток)"
   ]
  },
  {
   "cell_type": "code",
   "execution_count": 10,
   "metadata": {},
   "outputs": [],
   "source": [
    "quantitative_feature = df[['contract_period', 'age', 'avg_additional_charges_total', 'month_to_end_contract', 'lifetime',\n",
    "                          'avg_class_frequency_total', 'avg_class_frequency_current_month', 'churn']]"
   ]
  },
  {
   "cell_type": "code",
   "execution_count": 11,
   "metadata": {},
   "outputs": [
    {
     "data": {
      "text/html": [
       "<div>\n",
       "<style scoped>\n",
       "    .dataframe tbody tr th:only-of-type {\n",
       "        vertical-align: middle;\n",
       "    }\n",
       "\n",
       "    .dataframe tbody tr th {\n",
       "        vertical-align: top;\n",
       "    }\n",
       "\n",
       "    .dataframe thead th {\n",
       "        text-align: right;\n",
       "    }\n",
       "</style>\n",
       "<table border=\"1\" class=\"dataframe\">\n",
       "  <thead>\n",
       "    <tr style=\"text-align: right;\">\n",
       "      <th></th>\n",
       "      <th>contract_period</th>\n",
       "      <th>age</th>\n",
       "      <th>avg_additional_charges_total</th>\n",
       "      <th>month_to_end_contract</th>\n",
       "      <th>lifetime</th>\n",
       "      <th>avg_class_frequency_total</th>\n",
       "      <th>avg_class_frequency_current_month</th>\n",
       "      <th>churn</th>\n",
       "    </tr>\n",
       "  </thead>\n",
       "  <tbody>\n",
       "    <tr>\n",
       "      <th>0</th>\n",
       "      <td>6</td>\n",
       "      <td>29</td>\n",
       "      <td>14.227470</td>\n",
       "      <td>5.0</td>\n",
       "      <td>3</td>\n",
       "      <td>0.020398</td>\n",
       "      <td>0.000000</td>\n",
       "      <td>0</td>\n",
       "    </tr>\n",
       "    <tr>\n",
       "      <th>1</th>\n",
       "      <td>12</td>\n",
       "      <td>31</td>\n",
       "      <td>113.202938</td>\n",
       "      <td>12.0</td>\n",
       "      <td>7</td>\n",
       "      <td>1.922936</td>\n",
       "      <td>1.910244</td>\n",
       "      <td>0</td>\n",
       "    </tr>\n",
       "    <tr>\n",
       "      <th>2</th>\n",
       "      <td>1</td>\n",
       "      <td>28</td>\n",
       "      <td>129.448479</td>\n",
       "      <td>1.0</td>\n",
       "      <td>2</td>\n",
       "      <td>1.859098</td>\n",
       "      <td>1.736502</td>\n",
       "      <td>0</td>\n",
       "    </tr>\n",
       "    <tr>\n",
       "      <th>3</th>\n",
       "      <td>12</td>\n",
       "      <td>33</td>\n",
       "      <td>62.669863</td>\n",
       "      <td>12.0</td>\n",
       "      <td>2</td>\n",
       "      <td>3.205633</td>\n",
       "      <td>3.357215</td>\n",
       "      <td>0</td>\n",
       "    </tr>\n",
       "    <tr>\n",
       "      <th>4</th>\n",
       "      <td>1</td>\n",
       "      <td>26</td>\n",
       "      <td>198.362265</td>\n",
       "      <td>1.0</td>\n",
       "      <td>3</td>\n",
       "      <td>1.113884</td>\n",
       "      <td>1.120078</td>\n",
       "      <td>0</td>\n",
       "    </tr>\n",
       "  </tbody>\n",
       "</table>\n",
       "</div>"
      ],
      "text/plain": [
       "   contract_period  age  avg_additional_charges_total  month_to_end_contract  \\\n",
       "0                6   29                     14.227470                    5.0   \n",
       "1               12   31                    113.202938                   12.0   \n",
       "2                1   28                    129.448479                    1.0   \n",
       "3               12   33                     62.669863                   12.0   \n",
       "4                1   26                    198.362265                    1.0   \n",
       "\n",
       "   lifetime  avg_class_frequency_total  avg_class_frequency_current_month  \\\n",
       "0         3                   0.020398                           0.000000   \n",
       "1         7                   1.922936                           1.910244   \n",
       "2         2                   1.859098                           1.736502   \n",
       "3         2                   3.205633                           3.357215   \n",
       "4         3                   1.113884                           1.120078   \n",
       "\n",
       "   churn  \n",
       "0      0  \n",
       "1      0  \n",
       "2      0  \n",
       "3      0  \n",
       "4      0  "
      ]
     },
     "execution_count": 11,
     "metadata": {},
     "output_type": "execute_result"
    }
   ],
   "source": [
    "quantitative_feature.head()"
   ]
  },
  {
   "cell_type": "code",
   "execution_count": 12,
   "metadata": {},
   "outputs": [
    {
     "data": {
      "image/png": "[encoded data removed]",
      "text/plain": [
       "<Figure size 1440x1440 with 7 Axes>"
      ]
     },
     "metadata": {
      "needs_background": "light"
     },
     "output_type": "display_data"
    }
   ],
   "source": [
    "fig=plt.figure(figsize=(20,20))\n",
    "for i, feature in enumerate(quantitative_feature.drop('churn', axis = 1).columns):\n",
    "    ax=fig.add_subplot(4,2,i+1)\n",
    "    sns.histplot(data =quantitative_feature, x=feature, ax=ax, hue ='churn')\n",
    "    ax.set(xlabel='Признак'+' '+feature,\n",
    "           ylabel='Количество',\n",
    "           title = 'Распределение'+' '+feature)\n",
    "    \n",
    "fig.tight_layout()  \n",
    "plt.show()"
   ]
  },
  {
   "cell_type": "markdown",
   "metadata": {},
   "source": [
    "У кого абонементы 6 месяцев и 1 год, чаще не попадают в отток. Среди попавшив в отток чаще клиенты от 26 до 28 лет, среди тех, кто не попал в отток, возраст примерно от 28 до 32,5 лет. Чаще всего уходят те, у кого срок до окончания абонемента - 1 месяц и у кого прошло 1-2 месяца с первого обращения, а средняя частота посещения в неделю - 1 раз."
   ]
  },
  {
   "cell_type": "code",
   "execution_count": 13,
   "metadata": {},
   "outputs": [],
   "source": [
    "category_feature = df[['gender', 'near_location', 'partner', 'promo_friends', 'phone',\n",
    "                      'group_visits', 'churn']]"
   ]
  },
  {
   "cell_type": "code",
   "execution_count": 14,
   "metadata": {},
   "outputs": [
    {
     "data": {
      "image/png": "[encoded data removed]",
      "text/plain": [
       "<Figure size 1440x1440 with 6 Axes>"
      ]
     },
     "metadata": {
      "needs_background": "light"
     },
     "output_type": "display_data"
    }
   ],
   "source": [
    "fig=plt.figure(figsize=(20,20))\n",
    "for i, feature in enumerate(category_feature.drop('churn', axis = 1).columns):\n",
    "    ax=fig.add_subplot(4,2,i+1)\n",
    "    sns.barplot(data =category_feature, x='churn', y = feature, ax=ax, hue ='churn')\n",
    "    ax.set(xlabel='Факт оттока',\n",
    "           ylabel='Частота',\n",
    "           title = feature)\n",
    "    \n",
    "fig.tight_layout()  \n",
    "plt.show()"
   ]
  },
  {
   "cell_type": "markdown",
   "metadata": {},
   "source": [
    "Реже попадают в отток клиенты, которые являются сотдрудниками компании-партнера клуба и кто использовал промо-код при оплате первого абонемента и кто посещает групповые занятия. "
   ]
  },
  {
   "cell_type": "markdown",
   "metadata": {},
   "source": [
    "### Посмотрим на матрицу корреляций"
   ]
  },
  {
   "cell_type": "code",
   "execution_count": 15,
   "metadata": {},
   "outputs": [],
   "source": [
    "corr = df.corr()"
   ]
  },
  {
   "cell_type": "code",
   "execution_count": 16,
   "metadata": {},
   "outputs": [
    {
     "data": {
      "image/png": "[encoded data removed]",
      "text/plain": [
       "<Figure size 864x864 with 2 Axes>"
      ]
     },
     "metadata": {
      "needs_background": "light"
     },
     "output_type": "display_data"
    }
   ],
   "source": [
    "plt.figure(figsize = (12,12))\n",
    "sns.heatmap(df.corr().round(2), annot = True, square = True)\n",
    "plt.title('Тепловая карта')\n",
    "plt.xlabel('Признаки')\n",
    "plt.ylabel('Признаки')\n",
    "plt.show()"
   ]
  },
  {
   "cell_type": "markdown",
   "metadata": {},
   "source": [
    "Отток связан с длительностью абонемента, количество времени с момента первого обращения в фитнес-центр, а также \n",
    "количеством времени с момента первого обращения в фитнес-центр. Обратная связь.\n",
    "\n",
    "Очень сильная прямая связь между длительностью абонемента и сроком до окончания абонемента, а также между средней частотой посещений в неделю и суммарной выручкой от других услуг фитнес-центра. То есть мы наблюдаем мультиколлинеарность.\n",
    "\n",
    "Чтобы не получить переобученную под эти признаки модель, удалим по одному из пары."
   ]
  },
  {
   "cell_type": "code",
   "execution_count": 17,
   "metadata": {},
   "outputs": [
    {
     "data": {
      "text/html": [
       "<div>\n",
       "<style scoped>\n",
       "    .dataframe tbody tr th:only-of-type {\n",
       "        vertical-align: middle;\n",
       "    }\n",
       "\n",
       "    .dataframe tbody tr th {\n",
       "        vertical-align: top;\n",
       "    }\n",
       "\n",
       "    .dataframe thead th {\n",
       "        text-align: right;\n",
       "    }\n",
       "</style>\n",
       "<table border=\"1\" class=\"dataframe\">\n",
       "  <thead>\n",
       "    <tr style=\"text-align: right;\">\n",
       "      <th></th>\n",
       "      <th>gender</th>\n",
       "      <th>near_location</th>\n",
       "      <th>partner</th>\n",
       "      <th>promo_friends</th>\n",
       "      <th>phone</th>\n",
       "      <th>contract_period</th>\n",
       "      <th>group_visits</th>\n",
       "      <th>age</th>\n",
       "      <th>avg_additional_charges_total</th>\n",
       "      <th>lifetime</th>\n",
       "      <th>avg_class_frequency_total</th>\n",
       "      <th>churn</th>\n",
       "    </tr>\n",
       "  </thead>\n",
       "  <tbody>\n",
       "    <tr>\n",
       "      <th>0</th>\n",
       "      <td>1</td>\n",
       "      <td>1</td>\n",
       "      <td>1</td>\n",
       "      <td>1</td>\n",
       "      <td>0</td>\n",
       "      <td>6</td>\n",
       "      <td>1</td>\n",
       "      <td>29</td>\n",
       "      <td>14.227470</td>\n",
       "      <td>3</td>\n",
       "      <td>0.020398</td>\n",
       "      <td>0</td>\n",
       "    </tr>\n",
       "    <tr>\n",
       "      <th>1</th>\n",
       "      <td>0</td>\n",
       "      <td>1</td>\n",
       "      <td>0</td>\n",
       "      <td>0</td>\n",
       "      <td>1</td>\n",
       "      <td>12</td>\n",
       "      <td>1</td>\n",
       "      <td>31</td>\n",
       "      <td>113.202938</td>\n",
       "      <td>7</td>\n",
       "      <td>1.922936</td>\n",
       "      <td>0</td>\n",
       "    </tr>\n",
       "    <tr>\n",
       "      <th>2</th>\n",
       "      <td>0</td>\n",
       "      <td>1</td>\n",
       "      <td>1</td>\n",
       "      <td>0</td>\n",
       "      <td>1</td>\n",
       "      <td>1</td>\n",
       "      <td>0</td>\n",
       "      <td>28</td>\n",
       "      <td>129.448479</td>\n",
       "      <td>2</td>\n",
       "      <td>1.859098</td>\n",
       "      <td>0</td>\n",
       "    </tr>\n",
       "    <tr>\n",
       "      <th>3</th>\n",
       "      <td>0</td>\n",
       "      <td>1</td>\n",
       "      <td>1</td>\n",
       "      <td>1</td>\n",
       "      <td>1</td>\n",
       "      <td>12</td>\n",
       "      <td>1</td>\n",
       "      <td>33</td>\n",
       "      <td>62.669863</td>\n",
       "      <td>2</td>\n",
       "      <td>3.205633</td>\n",
       "      <td>0</td>\n",
       "    </tr>\n",
       "    <tr>\n",
       "      <th>4</th>\n",
       "      <td>1</td>\n",
       "      <td>1</td>\n",
       "      <td>1</td>\n",
       "      <td>1</td>\n",
       "      <td>1</td>\n",
       "      <td>1</td>\n",
       "      <td>0</td>\n",
       "      <td>26</td>\n",
       "      <td>198.362265</td>\n",
       "      <td>3</td>\n",
       "      <td>1.113884</td>\n",
       "      <td>0</td>\n",
       "    </tr>\n",
       "  </tbody>\n",
       "</table>\n",
       "</div>"
      ],
      "text/plain": [
       "   gender  near_location  partner  promo_friends  phone  contract_period  \\\n",
       "0       1              1        1              1      0                6   \n",
       "1       0              1        0              0      1               12   \n",
       "2       0              1        1              0      1                1   \n",
       "3       0              1        1              1      1               12   \n",
       "4       1              1        1              1      1                1   \n",
       "\n",
       "   group_visits  age  avg_additional_charges_total  lifetime  \\\n",
       "0             1   29                     14.227470         3   \n",
       "1             1   31                    113.202938         7   \n",
       "2             0   28                    129.448479         2   \n",
       "3             1   33                     62.669863         2   \n",
       "4             0   26                    198.362265         3   \n",
       "\n",
       "   avg_class_frequency_total  churn  \n",
       "0                   0.020398      0  \n",
       "1                   1.922936      0  \n",
       "2                   1.859098      0  \n",
       "3                   3.205633      0  \n",
       "4                   1.113884      0  "
      ]
     },
     "execution_count": 17,
     "metadata": {},
     "output_type": "execute_result"
    }
   ],
   "source": [
    "anti_multy_df = df.drop(['month_to_end_contract', 'avg_class_frequency_current_month'], axis = 1)\n",
    "anti_multy_df.head()"
   ]
  },
  {
   "cell_type": "markdown",
   "metadata": {},
   "source": [
    "## Mодель прогнозирования оттока клиентов"
   ]
  },
  {
   "cell_type": "markdown",
   "metadata": {},
   "source": [
    "### Построим модель бинарной классификации клиентов, где целевой признак — факт оттока клиента в следующем месяце"
   ]
  },
  {
   "cell_type": "markdown",
   "metadata": {},
   "source": [
    "#### Разобъем данные на обучающую и валидационную выборку"
   ]
  },
  {
   "cell_type": "code",
   "execution_count": 18,
   "metadata": {},
   "outputs": [],
   "source": [
    "# зададим матрицу объект-признак\n",
    "X = anti_multy_df.drop('churn', axis = 1)\n",
    "\n",
    "# зададим вектор целевой переменной\n",
    "y = anti_multy_df['churn']\n",
    "\n",
    "# разобъем данные на обучающую и валидационную выборку\n",
    "X_train, X_test, y_train, y_test = train_test_split(X, y, test_size=0.2, random_state = 0)\n"
   ]
  },
  {
   "cell_type": "code",
   "execution_count": 19,
   "metadata": {},
   "outputs": [
    {
     "data": {
      "text/plain": [
       "(3200, 11)"
      ]
     },
     "execution_count": 19,
     "metadata": {},
     "output_type": "execute_result"
    }
   ],
   "source": [
    "X_train.shape"
   ]
  },
  {
   "cell_type": "code",
   "execution_count": 42,
   "metadata": {},
   "outputs": [
    {
     "data": {
      "text/plain": [
       "(800, 11)"
      ]
     },
     "execution_count": 42,
     "metadata": {},
     "output_type": "execute_result"
    }
   ],
   "source": [
    "X_test.shape"
   ]
  },
  {
   "cell_type": "markdown",
   "metadata": {},
   "source": [
    "#### Обучим модель на train-выборке логистической регрессией"
   ]
  },
  {
   "cell_type": "code",
   "execution_count": 20,
   "metadata": {},
   "outputs": [
    {
     "data": {
      "text/plain": [
       "LogisticRegression(random_state=0, solver='liblinear')"
      ]
     },
     "execution_count": 20,
     "metadata": {},
     "output_type": "execute_result"
    }
   ],
   "source": [
    "#зададим алгоритм для модели - логистическую регрессию\n",
    "model = LogisticRegression(solver = 'liblinear', random_state = 0)\n",
    "\n",
    "# обучим модель на train-выборке\n",
    "model.fit(X_train, y_train)"
   ]
  },
  {
   "cell_type": "code",
   "execution_count": 21,
   "metadata": {},
   "outputs": [],
   "source": [
    "# посчитаем прогноз класса после обучения модели\n",
    "predictions = model.predict(X_test)\n",
    "\n",
    "#probabilities = model.predict_proba(X_test)[:,1]"
   ]
  },
  {
   "cell_type": "markdown",
   "metadata": {},
   "source": [
    "#### Оценим метрики accuracy, precision и recall для модели, обученной логистической регрессией"
   ]
  },
  {
   "cell_type": "code",
   "execution_count": 22,
   "metadata": {},
   "outputs": [
    {
     "data": {
      "text/plain": [
       "0.88"
      ]
     },
     "execution_count": 22,
     "metadata": {},
     "output_type": "execute_result"
    }
   ],
   "source": [
    "# посчитаем долю правильных ответов\n",
    "acc = accuracy_score(y_test, predictions)\n",
    "acc.round(2)"
   ]
  },
  {
   "cell_type": "markdown",
   "metadata": {},
   "source": [
    "в 88% случаев модель предсказала ушедших клиентов"
   ]
  },
  {
   "cell_type": "code",
   "execution_count": 23,
   "metadata": {},
   "outputs": [
    {
     "data": {
      "text/plain": [
       "0.76"
      ]
     },
     "execution_count": 23,
     "metadata": {},
     "output_type": "execute_result"
    }
   ],
   "source": [
    "# посчитаем точность (процент точно предсказанных ушедших клиентов)\n",
    "precision = precision_score(y_test, predictions)\n",
    "precision.round(2)"
   ]
  },
  {
   "cell_type": "markdown",
   "metadata": {},
   "source": [
    "из всех ушедших клиентов модель отметила 76% (как ушедших) "
   ]
  },
  {
   "cell_type": "code",
   "execution_count": 24,
   "metadata": {},
   "outputs": [
    {
     "data": {
      "text/plain": [
       "0.77"
      ]
     },
     "execution_count": 24,
     "metadata": {},
     "output_type": "execute_result"
    }
   ],
   "source": [
    "# посчитаем полноту (насколько хорошо модель обнаруживает ушедшего клиента)\n",
    "recall = recall_score(y_test, predictions)\n",
    "recall.round(2)"
   ]
  },
  {
   "cell_type": "markdown",
   "metadata": {},
   "source": [
    "Модель пропускает (не обнаруживает) 23% ушедших клиентов из 100 "
   ]
  },
  {
   "cell_type": "markdown",
   "metadata": {},
   "source": [
    "#### Обучим модель на train-выборке случайным лесом"
   ]
  },
  {
   "cell_type": "code",
   "execution_count": 25,
   "metadata": {},
   "outputs": [
    {
     "data": {
      "text/plain": [
       "RandomForestClassifier(random_state=0)"
      ]
     },
     "execution_count": 25,
     "metadata": {},
     "output_type": "execute_result"
    }
   ],
   "source": [
    "#Обучим модель на train-выборке случайным лесом\n",
    "rf_model = RandomForestClassifier(random_state = 0)\n",
    "rf_model.fit(X_train, y_train)"
   ]
  },
  {
   "cell_type": "markdown",
   "metadata": {},
   "source": [
    "#### Оценим метрики accuracy, precision и recall для модели, обученной случайным лесом"
   ]
  },
  {
   "cell_type": "code",
   "execution_count": 26,
   "metadata": {},
   "outputs": [],
   "source": [
    "# посчитаем прогноз класса после обучения модели\n",
    "rf_predictions = rf_model.predict(X_test)"
   ]
  },
  {
   "cell_type": "code",
   "execution_count": 27,
   "metadata": {},
   "outputs": [
    {
     "data": {
      "text/plain": [
       "0.89"
      ]
     },
     "execution_count": 27,
     "metadata": {},
     "output_type": "execute_result"
    }
   ],
   "source": [
    "rf_acc = accuracy_score(y_test, rf_predictions)\n",
    "rf_acc.round(2)"
   ]
  },
  {
   "cell_type": "markdown",
   "metadata": {},
   "source": [
    "в 89% случаев модель предсказала ушедших клиентов"
   ]
  },
  {
   "cell_type": "code",
   "execution_count": 28,
   "metadata": {},
   "outputs": [
    {
     "data": {
      "text/plain": [
       "0.78"
      ]
     },
     "execution_count": 28,
     "metadata": {},
     "output_type": "execute_result"
    }
   ],
   "source": [
    "rf_precision = precision_score(y_test, rf_predictions)\n",
    "rf_precision.round(2)"
   ]
  },
  {
   "cell_type": "markdown",
   "metadata": {},
   "source": [
    "из всех ушедших клиентов модель отметила 78% (как ушедших) "
   ]
  },
  {
   "cell_type": "code",
   "execution_count": 29,
   "metadata": {},
   "outputs": [
    {
     "data": {
      "text/plain": [
       "0.77"
      ]
     },
     "execution_count": 29,
     "metadata": {},
     "output_type": "execute_result"
    }
   ],
   "source": [
    "rf_recall = recall_score(y_test, rf_predictions)\n",
    "rf_recall.round(2)"
   ]
  },
  {
   "cell_type": "markdown",
   "metadata": {},
   "source": [
    "Модель пропускает (не обнаруживает) 23% ушедших клиентов из 100 "
   ]
  },
  {
   "cell_type": "markdown",
   "metadata": {},
   "source": [
    "Отличается только метрика accuracy на 1%"
   ]
  },
  {
   "cell_type": "markdown",
   "metadata": {},
   "source": [
    "## Кластеризация клиентов"
   ]
  },
  {
   "cell_type": "markdown",
   "metadata": {},
   "source": [
    "### Построим дендрограмму"
   ]
  },
  {
   "cell_type": "code",
   "execution_count": 30,
   "metadata": {},
   "outputs": [
    {
     "data": {
      "text/plain": [
       "array([[9.70000000e+01, 3.22200000e+03, 1.00990653e-01, 2.00000000e+00],\n",
       "       [2.61000000e+02, 3.17900000e+03, 1.22634574e-01, 2.00000000e+00],\n",
       "       [8.90000000e+02, 1.75000000e+03, 1.28123291e-01, 2.00000000e+00],\n",
       "       [2.10100000e+03, 3.77300000e+03, 1.44188037e-01, 2.00000000e+00],\n",
       "       [7.50000000e+01, 1.64600000e+03, 1.46525871e-01, 2.00000000e+00]])"
      ]
     },
     "execution_count": 30,
     "metadata": {},
     "output_type": "execute_result"
    }
   ],
   "source": [
    "# приведем признаки к единому масштабу\n",
    "sc = StandardScaler()\n",
    "X_sc = sc.fit_transform(df)\n",
    "\n",
    "# в переменной linked сохраним таблицу «связок» между объектами\n",
    "linked = linkage(X_sc, method = 'ward') \n",
    "linked[:5]"
   ]
  },
  {
   "cell_type": "code",
   "execution_count": 31,
   "metadata": {},
   "outputs": [
    {
     "data": {
      "image/png": "[encoded data removed]",
      "text/plain": [
       "<Figure size 1080x720 with 1 Axes>"
      ]
     },
     "metadata": {
      "needs_background": "light"
     },
     "output_type": "display_data"
    }
   ],
   "source": [
    "# визуализируем таблицу «связок» как дендрограмму\n",
    "plt.figure(figsize=(15, 10))  \n",
    "dendrogram(linked, orientation='top')\n",
    "plt.title('Кластеризация клиентов')\n",
    "plt.show() "
   ]
  },
  {
   "cell_type": "markdown",
   "metadata": {},
   "source": [
    "Предложенное оптимальное число кластеров 5 — пять разных цветов на графике"
   ]
  },
  {
   "cell_type": "markdown",
   "metadata": {},
   "source": [
    "### Обучим модель кластеризации на основании алгоритма K-Means"
   ]
  },
  {
   "cell_type": "code",
   "execution_count": 32,
   "metadata": {},
   "outputs": [],
   "source": [
    "# зададим число кластеров, равное 5\n",
    "km = KMeans(n_clusters = 5, random_state = 0)"
   ]
  },
  {
   "cell_type": "code",
   "execution_count": 33,
   "metadata": {},
   "outputs": [],
   "source": [
    "# применим алгоритм к данным и сформируем вектор кластеров\n",
    "labels = km.fit_predict(X_sc)"
   ]
  },
  {
   "cell_type": "code",
   "execution_count": 34,
   "metadata": {},
   "outputs": [],
   "source": [
    "# сохраним метки кластера в датафрейме\n",
    "df['cluster'] = labels"
   ]
  },
  {
   "cell_type": "markdown",
   "metadata": {},
   "source": [
    "### Посмотрим на средние значения признаков для кластеров"
   ]
  },
  {
   "cell_type": "code",
   "execution_count": 35,
   "metadata": {},
   "outputs": [
    {
     "data": {
      "text/html": [
       "<div>\n",
       "<style scoped>\n",
       "    .dataframe tbody tr th:only-of-type {\n",
       "        vertical-align: middle;\n",
       "    }\n",
       "\n",
       "    .dataframe tbody tr th {\n",
       "        vertical-align: top;\n",
       "    }\n",
       "\n",
       "    .dataframe thead th {\n",
       "        text-align: right;\n",
       "    }\n",
       "</style>\n",
       "<table border=\"1\" class=\"dataframe\">\n",
       "  <thead>\n",
       "    <tr style=\"text-align: right;\">\n",
       "      <th>cluster</th>\n",
       "      <th>0</th>\n",
       "      <th>1</th>\n",
       "      <th>2</th>\n",
       "      <th>3</th>\n",
       "      <th>4</th>\n",
       "    </tr>\n",
       "  </thead>\n",
       "  <tbody>\n",
       "    <tr>\n",
       "      <th>gender</th>\n",
       "      <td>0.503676</td>\n",
       "      <td>0.492829</td>\n",
       "      <td>0.507917</td>\n",
       "      <td>0.521186</td>\n",
       "      <td>0.518895</td>\n",
       "    </tr>\n",
       "    <tr>\n",
       "      <th>near_location</th>\n",
       "      <td>0.000000</td>\n",
       "      <td>0.936115</td>\n",
       "      <td>1.000000</td>\n",
       "      <td>0.996610</td>\n",
       "      <td>0.968023</td>\n",
       "    </tr>\n",
       "    <tr>\n",
       "      <th>partner</th>\n",
       "      <td>0.459559</td>\n",
       "      <td>0.764016</td>\n",
       "      <td>0.323995</td>\n",
       "      <td>0.282203</td>\n",
       "      <td>0.744186</td>\n",
       "    </tr>\n",
       "    <tr>\n",
       "      <th>promo_friends</th>\n",
       "      <td>0.075368</td>\n",
       "      <td>0.534550</td>\n",
       "      <td>0.213155</td>\n",
       "      <td>0.208475</td>\n",
       "      <td>0.526163</td>\n",
       "    </tr>\n",
       "    <tr>\n",
       "      <th>phone</th>\n",
       "      <td>0.917279</td>\n",
       "      <td>0.919166</td>\n",
       "      <td>0.903776</td>\n",
       "      <td>0.904237</td>\n",
       "      <td>0.873547</td>\n",
       "    </tr>\n",
       "    <tr>\n",
       "      <th>contract_period</th>\n",
       "      <td>2.069853</td>\n",
       "      <td>10.447197</td>\n",
       "      <td>1.546894</td>\n",
       "      <td>1.882203</td>\n",
       "      <td>8.859012</td>\n",
       "    </tr>\n",
       "    <tr>\n",
       "      <th>group_visits</th>\n",
       "      <td>0.211397</td>\n",
       "      <td>0.516297</td>\n",
       "      <td>0.287454</td>\n",
       "      <td>0.452542</td>\n",
       "      <td>0.534884</td>\n",
       "    </tr>\n",
       "    <tr>\n",
       "      <th>age</th>\n",
       "      <td>28.522059</td>\n",
       "      <td>29.962190</td>\n",
       "      <td>26.926918</td>\n",
       "      <td>30.237288</td>\n",
       "      <td>29.728198</td>\n",
       "    </tr>\n",
       "    <tr>\n",
       "      <th>avg_additional_charges_total</th>\n",
       "      <td>132.741216</td>\n",
       "      <td>161.853561</td>\n",
       "      <td>113.173051</td>\n",
       "      <td>157.988625</td>\n",
       "      <td>162.907495</td>\n",
       "    </tr>\n",
       "    <tr>\n",
       "      <th>month_to_end_contract</th>\n",
       "      <td>1.950368</td>\n",
       "      <td>9.477184</td>\n",
       "      <td>1.500609</td>\n",
       "      <td>1.794915</td>\n",
       "      <td>8.155523</td>\n",
       "    </tr>\n",
       "    <tr>\n",
       "      <th>lifetime</th>\n",
       "      <td>2.757353</td>\n",
       "      <td>4.833116</td>\n",
       "      <td>1.031669</td>\n",
       "      <td>4.923729</td>\n",
       "      <td>4.411337</td>\n",
       "    </tr>\n",
       "    <tr>\n",
       "      <th>avg_class_frequency_total</th>\n",
       "      <td>1.706629</td>\n",
       "      <td>2.788103</td>\n",
       "      <td>1.449720</td>\n",
       "      <td>2.203432</td>\n",
       "      <td>0.957744</td>\n",
       "    </tr>\n",
       "    <tr>\n",
       "      <th>avg_class_frequency_current_month</th>\n",
       "      <td>1.515890</td>\n",
       "      <td>2.786919</td>\n",
       "      <td>1.037592</td>\n",
       "      <td>2.207359</td>\n",
       "      <td>0.943967</td>\n",
       "    </tr>\n",
       "    <tr>\n",
       "      <th>churn</th>\n",
       "      <td>0.450368</td>\n",
       "      <td>0.007823</td>\n",
       "      <td>0.961023</td>\n",
       "      <td>0.003390</td>\n",
       "      <td>0.024709</td>\n",
       "    </tr>\n",
       "  </tbody>\n",
       "</table>\n",
       "</div>"
      ],
      "text/plain": [
       "cluster                                     0           1           2  \\\n",
       "gender                               0.503676    0.492829    0.507917   \n",
       "near_location                        0.000000    0.936115    1.000000   \n",
       "partner                              0.459559    0.764016    0.323995   \n",
       "promo_friends                        0.075368    0.534550    0.213155   \n",
       "phone                                0.917279    0.919166    0.903776   \n",
       "contract_period                      2.069853   10.447197    1.546894   \n",
       "group_visits                         0.211397    0.516297    0.287454   \n",
       "age                                 28.522059   29.962190   26.926918   \n",
       "avg_additional_charges_total       132.741216  161.853561  113.173051   \n",
       "month_to_end_contract                1.950368    9.477184    1.500609   \n",
       "lifetime                             2.757353    4.833116    1.031669   \n",
       "avg_class_frequency_total            1.706629    2.788103    1.449720   \n",
       "avg_class_frequency_current_month    1.515890    2.786919    1.037592   \n",
       "churn                                0.450368    0.007823    0.961023   \n",
       "\n",
       "cluster                                     3           4  \n",
       "gender                               0.521186    0.518895  \n",
       "near_location                        0.996610    0.968023  \n",
       "partner                              0.282203    0.744186  \n",
       "promo_friends                        0.208475    0.526163  \n",
       "phone                                0.904237    0.873547  \n",
       "contract_period                      1.882203    8.859012  \n",
       "group_visits                         0.452542    0.534884  \n",
       "age                                 30.237288   29.728198  \n",
       "avg_additional_charges_total       157.988625  162.907495  \n",
       "month_to_end_contract                1.794915    8.155523  \n",
       "lifetime                             4.923729    4.411337  \n",
       "avg_class_frequency_total            2.203432    0.957744  \n",
       "avg_class_frequency_current_month    2.207359    0.943967  \n",
       "churn                                0.003390    0.024709  "
      ]
     },
     "execution_count": 35,
     "metadata": {},
     "output_type": "execute_result"
    }
   ],
   "source": [
    "# посмотрим на средние значения признаков для кластеров\n",
    "cluster_df = df.groupby(['cluster']).mean()\n",
    "cluster_df.transpose()"
   ]
  },
  {
   "cell_type": "markdown",
   "metadata": {},
   "source": [
    "Сразу можно отметить, что, например, к кластеру 0 относятся клиенты, которые не проживают и не работают рядом с фитнес-центром.\n",
    "\n",
    "К кластеру 1 относятся клиенты с длительностью абонемента в среднем 10 месяцев и сроком до окончания действия абонемента - 9 месяцев, средняя частота посещения посещения в неделю - 3 раза. \n",
    "\n",
    "К кластеру 2 - клиенты с возрастом 27 лет и с лайфтаймом 1 месяц. \n",
    "\n",
    "К кластеру 3 - со сроком до окончания действия абонемента - 2 месяца, возраст 30 лет. \n",
    "\n",
    "К кластеру 4 - клиенты с длительностью абонемента в среднем 9 месяцев со средней частотой посещений в неделю за все время - 1 раз.\n",
    "\n",
    "Самый большой отток у кластера 2, самый низкий у 1 и 3.\n",
    "\n",
    "В общем, все кластеры имеют отличные друг от друга признаки."
   ]
  },
  {
   "cell_type": "markdown",
   "metadata": {},
   "source": [
    "### Построим распределения признаков для кластеров"
   ]
  },
  {
   "cell_type": "code",
   "execution_count": 36,
   "metadata": {},
   "outputs": [],
   "source": [
    "quantitative_feature = df[['contract_period', 'age', 'avg_additional_charges_total', 'month_to_end_contract', 'lifetime',\n",
    "                          'avg_class_frequency_total', 'avg_class_frequency_current_month', 'cluster']]"
   ]
  },
  {
   "cell_type": "code",
   "execution_count": 37,
   "metadata": {},
   "outputs": [
    {
     "data": {
      "image/png": "[encoded data removed]",
      "text/plain": [
       "<Figure size 1440x1440 with 7 Axes>"
      ]
     },
     "metadata": {
      "needs_background": "light"
     },
     "output_type": "display_data"
    }
   ],
   "source": [
    "fig=plt.figure(figsize=(20,20))\n",
    "for i, feature in enumerate(quantitative_feature.drop('cluster', axis = 1).columns):\n",
    "    ax=fig.add_subplot(4,2,i+1)\n",
    "    sns.kdeplot(data =quantitative_feature, x=feature, ax=ax, hue ='cluster', fill=True)\n",
    "    ax.set(xlabel='Признак'+' '+feature,\n",
    "           ylabel='Количество',\n",
    "           title = 'Распределение'+' '+feature)\n",
    "    \n",
    "fig.tight_layout()  \n",
    "plt.show()"
   ]
  },
  {
   "cell_type": "markdown",
   "metadata": {},
   "source": [
    "У клиентов в 0, 2 и 3 кластеров длительность действующего абонемента чаще 1 месяц, в 1 кластере - 12 месяцев, в 4 кластере - 6  месяцев.\n",
    "\n",
    "В кластере 0 чаще клиенты в возрасте 29 лет, в 1 кластере - 31, во 2 - 26-27, в 3 - 31, в 4 - 29-30. \n",
    "\n",
    "В 1, 3, 4 кластерах выручка примерно одинаковая, чуть меньше в 0 кластере, самая низкая - во 2.\n",
    "\n",
    "Срок до окончания текущего действующего абонемента идентичен длительности действующего абонемента.\n",
    "\n",
    "У клиентов 0 и 2 кластера время с момента первого обращения в фитнес центр меньше, чем в остальных кластерах.\n",
    "\n",
    "Самые частые посещения в неделю за все в ремя с начала действия абонемента у клиентов в 1 кластере, немного реже посещают клиенты из 3 кластера. Реже всего - из 4 кластера.\n",
    "\n",
    "Аналогично с частотой посещения в неделю за предыдущий месяц."
   ]
  },
  {
   "cell_type": "code",
   "execution_count": 38,
   "metadata": {},
   "outputs": [],
   "source": [
    "category_feature = df[['gender', 'near_location', 'partner', 'promo_friends', 'phone',\n",
    "                      'group_visits', 'cluster', 'churn']]"
   ]
  },
  {
   "cell_type": "code",
   "execution_count": 39,
   "metadata": {},
   "outputs": [
    {
     "data": {
      "image/png": "[encoded data removed]",
      "text/plain": [
       "<Figure size 1440x1440 with 7 Axes>"
      ]
     },
     "metadata": {
      "needs_background": "light"
     },
     "output_type": "display_data"
    }
   ],
   "source": [
    "fig=plt.figure(figsize=(20,20))\n",
    "for i, feature in enumerate(category_feature.drop('cluster', axis = 1).columns):\n",
    "    ax=fig.add_subplot(4,2,i+1)\n",
    "    sns.barplot(data =category_feature, x='cluster', y = feature, ax=ax, hue ='cluster')\n",
    "    ax.set(xlabel='Кластер',\n",
    "           ylabel='Количество',\n",
    "           title ='Распределение'+' '+feature)\n",
    "    \n",
    "fig.tight_layout()  \n",
    "plt.show()"
   ]
  },
  {
   "cell_type": "markdown",
   "metadata": {},
   "source": [
    "Клиенты из 1 кластера живут или работают не в районе, где находится фитнес-центр.\n",
    "В кластерах 1 и 4 клиенты чаще являются сотрудниками компаний-партнеров клуба, так же как клиенты, которые пришли по промо-коду, а вот 0 кластере клиенты редко приходят по промо-коду. Также клиенты 0 кластера живут и работают не в районе фитнес-центра. Чаще всего групповые занятия посещают клиенты в 1 и 4 кластерах, реже всего в 0 кластере."
   ]
  },
  {
   "cell_type": "code",
   "execution_count": 40,
   "metadata": {},
   "outputs": [
    {
     "data": {
      "text/plain": [
       "cluster\n",
       "2    96.10\n",
       "0    45.04\n",
       "4     2.47\n",
       "1     0.78\n",
       "3     0.34\n",
       "Name: churn, dtype: float64"
      ]
     },
     "execution_count": 40,
     "metadata": {},
     "output_type": "execute_result"
    }
   ],
   "source": [
    "ratio_churn = df.groupby('cluster')['churn'].sum()/df.groupby('cluster')['churn'].count()\n",
    "(ratio_churn*100).round(2).sort_values(ascending = False)"
   ]
  },
  {
   "cell_type": "markdown",
   "metadata": {},
   "source": [
    "Клиенты с минимальным оттоком попали в 1, 3 и 4 кластеры"
   ]
  },
  {
   "cell_type": "markdown",
   "metadata": {},
   "source": [
    "## Общий вывод"
   ]
  },
  {
   "cell_type": "markdown",
   "metadata": {},
   "source": [
    "Согласно проведенному анализу клиентов примерно поровну мужчин и женщин, в основном проживают или работают в районе, где находится фитнес-центр.\n",
    "Средний возраст 29 лет. Минимальный возраст 18 лет, максимальный 41.\n",
    "В среднем частота посещений в неделю - 1, 2 раза.\n",
    "Отток составляет около 26%\n",
    "\n",
    "Согласно средним значениям признаков в двух группах — тех, кто ушел в отток и тех, кто остался, Клиенты, которые остались, чаще живут или работают в районе, где находится фитнес центр (локация хоть и незначительно, но оказывает влияние). Чаще посетители является сотрудником компании-партнера и используют промо-код. Длительность абонемента около 6 месяцев, возраст примерно 30 лет. Лайфтам около 5 месяцев.\n",
    "\n",
    "Тех, кто не является сотрудником компании-партнером, уходит на примерно 20% больше, примерно такая же зависимость и при использовании про-акции. Также чаще уходят те, у кото абонемент не более 2х месяцев, и у кого срок до окончания абонемента примерно 1,5 месяца, у кого лайфтайм в среднем месяц, то есть те, кто не успел задержаться. Возраст попадающих в отток в среднем 27 лет.\n",
    "Таким образом, на отток оказывают влияние локация, длительность абонемента, лайфтайм, то есть сколько прошло времени от первого обращения, возраст (до 30 лет чаще попадают в отток), а также факт того, является ли клиент сотрудником компании-партнером и использовал ли промо-код.\n",
    "\n",
    "Согласно кластеризации, клиенты с минимальным оттоком попали в 1, 3 и 4 кластеры. Это клиенты, у которых длительность действующего абонемента 1, 6 и 12 месяцев, возраст от 29 до 31 года. В кластерах 1 и 4 клиенты чаще являются сотрудниками компаний-партнеров клуба, так же как клиенты, которые пришли по промо-коду.\n",
    "\n",
    "У клиентов 0 и 2 кластера (которые попали в отток) время с момента первого обращения в фитнес центр меньше, чем в остальных кластерах.\n",
    "\n",
    "На основании проведенного анализа можно сделать следующий вывод: клиенты, которые имеют длительные абонементы (6 и 12 месяцев), работают или живут в районе фитнес-центра, являются сотрудниками компаний-партнеров клуба, так же как клиенты, которые пришли по промо-коду реже попадают в отток. Поэтому чтобы снизить отток, необходимо больше сотрудничать с компаниями, которые расположены в непосредственной близости с фитнес-центром, привлекать клиентов к покупке более длительных абонементов, например, на абонементы 6 и 12 месяцев делать скидку пропорционально длительности абонемента. Так как чаще посещают клиенты, живущие рядом, то запустить таргетированную и контекстную рекламы по локации. Также клиентов, у которых срок текущего абонемента подходит к концу, привлекать к покупке следующего абонемента, можно так же за счет скидки, либо дополнительных занятий в подарок.\n"
   ]
  }
 ],
 "metadata": {
  "ExecuteTimeLog": [
   {
    "duration": 4,
    "start_time": "2022-07-15T07:06:02.760Z"
   },
   {
    "duration": 69,
    "start_time": "2022-07-15T07:07:00.719Z"
   },
   {
    "duration": 6,
    "start_time": "2022-07-15T07:11:16.468Z"
   },
   {
    "duration": 33,
    "start_time": "2022-07-15T07:12:52.241Z"
   },
   {
    "duration": 34,
    "start_time": "2022-07-15T07:13:08.963Z"
   },
   {
    "duration": 30,
    "start_time": "2022-07-15T07:13:12.974Z"
   },
   {
    "duration": 32,
    "start_time": "2022-07-15T07:13:33.615Z"
   },
   {
    "duration": 45,
    "start_time": "2022-07-15T07:13:36.717Z"
   },
   {
    "duration": 4,
    "start_time": "2022-07-15T07:16:04.101Z"
   },
   {
    "duration": 5,
    "start_time": "2022-07-15T07:16:14.636Z"
   },
   {
    "duration": 62,
    "start_time": "2022-07-15T07:34:49.366Z"
   },
   {
    "duration": 41,
    "start_time": "2022-07-15T07:56:26.935Z"
   },
   {
    "duration": 122,
    "start_time": "2022-07-15T08:02:18.757Z"
   },
   {
    "duration": 27,
    "start_time": "2022-07-15T08:03:08.963Z"
   },
   {
    "duration": 19,
    "start_time": "2022-07-15T08:03:45.598Z"
   },
   {
    "duration": 17,
    "start_time": "2022-07-15T08:04:17.563Z"
   },
   {
    "duration": 17,
    "start_time": "2022-07-15T08:04:55.455Z"
   },
   {
    "duration": 802,
    "start_time": "2022-07-15T08:42:18.921Z"
   },
   {
    "duration": 4,
    "start_time": "2022-07-15T08:43:02.035Z"
   },
   {
    "duration": 16,
    "start_time": "2022-07-15T09:11:19.570Z"
   },
   {
    "duration": 125,
    "start_time": "2022-07-15T09:11:57.009Z"
   },
   {
    "duration": 1206,
    "start_time": "2022-07-15T09:12:17.157Z"
   },
   {
    "duration": 118,
    "start_time": "2022-07-15T09:19:51.774Z"
   },
   {
    "duration": 1010,
    "start_time": "2022-07-15T09:25:45.400Z"
   },
   {
    "duration": 65,
    "start_time": "2022-07-15T09:30:54.937Z"
   },
   {
    "duration": 69,
    "start_time": "2022-07-15T09:31:32.538Z"
   },
   {
    "duration": 4720,
    "start_time": "2022-07-15T09:31:39.326Z"
   },
   {
    "duration": 16,
    "start_time": "2022-07-15T09:32:41.583Z"
   },
   {
    "duration": 4639,
    "start_time": "2022-07-15T09:32:52.332Z"
   },
   {
    "duration": 6431,
    "start_time": "2022-07-15T09:43:43.940Z"
   },
   {
    "duration": 4689,
    "start_time": "2022-07-15T09:48:26.464Z"
   },
   {
    "duration": 382,
    "start_time": "2022-07-15T10:04:10.912Z"
   },
   {
    "duration": 1239,
    "start_time": "2022-07-15T10:05:46.841Z"
   },
   {
    "duration": 1362,
    "start_time": "2022-07-15T10:08:04.235Z"
   },
   {
    "duration": 351,
    "start_time": "2022-07-15T10:08:27.452Z"
   },
   {
    "duration": 1241,
    "start_time": "2022-07-15T10:10:11.175Z"
   },
   {
    "duration": 957,
    "start_time": "2022-07-15T10:10:53.614Z"
   },
   {
    "duration": 301,
    "start_time": "2022-07-15T10:11:48.411Z"
   },
   {
    "duration": 19,
    "start_time": "2022-07-15T10:32:20.177Z"
   },
   {
    "duration": 5,
    "start_time": "2022-07-15T10:32:30.509Z"
   },
   {
    "duration": 24,
    "start_time": "2022-07-15T10:32:32.659Z"
   },
   {
    "duration": 1238,
    "start_time": "2022-07-15T10:37:25.522Z"
   },
   {
    "duration": 2031,
    "start_time": "2022-07-15T10:40:57.025Z"
   },
   {
    "duration": 411,
    "start_time": "2022-07-15T11:02:28.900Z"
   },
   {
    "duration": 552,
    "start_time": "2022-07-15T11:02:42.536Z"
   },
   {
    "duration": 4286,
    "start_time": "2022-07-15T11:02:57.250Z"
   },
   {
    "duration": 1922,
    "start_time": "2022-07-15T11:03:30.041Z"
   },
   {
    "duration": 1810,
    "start_time": "2022-07-15T11:09:56.095Z"
   },
   {
    "duration": 18,
    "start_time": "2022-07-15T11:11:06.886Z"
   },
   {
    "duration": 1895,
    "start_time": "2022-07-15T11:11:39.443Z"
   },
   {
    "duration": 1995,
    "start_time": "2022-07-15T11:12:19.145Z"
   },
   {
    "duration": 1883,
    "start_time": "2022-07-15T11:12:43.793Z"
   },
   {
    "duration": 634,
    "start_time": "2022-07-15T11:14:49.899Z"
   },
   {
    "duration": 889,
    "start_time": "2022-07-15T11:15:37.895Z"
   },
   {
    "duration": 2154,
    "start_time": "2022-07-15T11:16:23.977Z"
   },
   {
    "duration": 1725,
    "start_time": "2022-07-15T11:26:02.577Z"
   },
   {
    "duration": 1767,
    "start_time": "2022-07-15T11:26:23.028Z"
   },
   {
    "duration": 645,
    "start_time": "2022-07-15T11:26:37.508Z"
   },
   {
    "duration": 3156,
    "start_time": "2022-07-15T11:38:33.248Z"
   },
   {
    "duration": 2482,
    "start_time": "2022-07-15T11:38:41.732Z"
   },
   {
    "duration": 2190,
    "start_time": "2022-07-15T11:39:06.854Z"
   },
   {
    "duration": 52,
    "start_time": "2022-07-15T12:52:50.208Z"
   },
   {
    "duration": 2519,
    "start_time": "2022-07-15T12:53:01.602Z"
   },
   {
    "duration": 2392,
    "start_time": "2022-07-15T12:54:29.774Z"
   },
   {
    "duration": 4,
    "start_time": "2022-07-15T13:01:33.976Z"
   },
   {
    "duration": 334,
    "start_time": "2022-07-15T13:02:35.010Z"
   },
   {
    "duration": 2318,
    "start_time": "2022-07-15T13:02:57.260Z"
   },
   {
    "duration": 120,
    "start_time": "2022-07-15T13:10:15.532Z"
   },
   {
    "duration": 1537,
    "start_time": "2022-07-15T13:10:40.604Z"
   },
   {
    "duration": 1932,
    "start_time": "2022-07-15T13:52:39.307Z"
   },
   {
    "duration": 22,
    "start_time": "2022-07-15T14:15:40.492Z"
   },
   {
    "duration": 5,
    "start_time": "2022-07-15T14:15:46.608Z"
   },
   {
    "duration": 2404,
    "start_time": "2022-07-15T14:15:51.831Z"
   },
   {
    "duration": 2999,
    "start_time": "2022-07-15T14:16:10.726Z"
   },
   {
    "duration": 4,
    "start_time": "2022-07-15T14:17:23.719Z"
   },
   {
    "duration": 1457,
    "start_time": "2022-07-15T14:17:26.056Z"
   },
   {
    "duration": 32,
    "start_time": "2022-07-15T14:18:48.550Z"
   },
   {
    "duration": 1683,
    "start_time": "2022-07-15T14:34:44.948Z"
   },
   {
    "duration": 169,
    "start_time": "2022-07-15T14:35:24.446Z"
   },
   {
    "duration": 121,
    "start_time": "2022-07-15T14:35:41.136Z"
   },
   {
    "duration": 1855,
    "start_time": "2022-07-15T14:35:57.148Z"
   },
   {
    "duration": 1740,
    "start_time": "2022-07-15T14:37:01.419Z"
   },
   {
    "duration": 1595,
    "start_time": "2022-07-15T14:37:27.743Z"
   },
   {
    "duration": 1720,
    "start_time": "2022-07-15T14:37:45.391Z"
   },
   {
    "duration": 11,
    "start_time": "2022-07-15T14:42:37.391Z"
   },
   {
    "duration": 7,
    "start_time": "2022-07-15T14:42:41.644Z"
   },
   {
    "duration": 85,
    "start_time": "2022-07-15T14:42:44.106Z"
   },
   {
    "duration": 613,
    "start_time": "2022-07-15T14:43:47.318Z"
   },
   {
    "duration": 19,
    "start_time": "2022-07-15T14:44:24.492Z"
   },
   {
    "duration": 1520,
    "start_time": "2022-07-15T14:44:32.793Z"
   },
   {
    "duration": 1710,
    "start_time": "2022-07-15T14:44:51.310Z"
   },
   {
    "duration": 1598,
    "start_time": "2022-07-15T14:45:07.887Z"
   },
   {
    "duration": 1519,
    "start_time": "2022-07-15T14:45:25.839Z"
   },
   {
    "duration": 10,
    "start_time": "2022-07-15T15:00:44.433Z"
   },
   {
    "duration": 7,
    "start_time": "2022-07-15T15:13:12.403Z"
   },
   {
    "duration": 13,
    "start_time": "2022-07-15T15:30:30.980Z"
   },
   {
    "duration": 3,
    "start_time": "2022-07-15T15:31:57.724Z"
   },
   {
    "duration": 24,
    "start_time": "2022-07-15T15:32:05.322Z"
   },
   {
    "duration": 9,
    "start_time": "2022-07-15T15:36:01.039Z"
   },
   {
    "duration": 24,
    "start_time": "2022-07-15T15:36:05.085Z"
   },
   {
    "duration": 11,
    "start_time": "2022-07-15T15:41:06.589Z"
   },
   {
    "duration": 3,
    "start_time": "2022-07-15T15:41:58.079Z"
   },
   {
    "duration": 370,
    "start_time": "2022-07-15T15:42:02.681Z"
   },
   {
    "duration": 9,
    "start_time": "2022-07-15T15:43:59.440Z"
   },
   {
    "duration": 6,
    "start_time": "2022-07-15T15:51:29.040Z"
   },
   {
    "duration": 12,
    "start_time": "2022-07-15T15:54:33.066Z"
   },
   {
    "duration": 4,
    "start_time": "2022-07-15T15:54:52.178Z"
   },
   {
    "duration": 4,
    "start_time": "2022-07-15T15:54:57.819Z"
   },
   {
    "duration": 5,
    "start_time": "2022-07-15T15:55:03.339Z"
   },
   {
    "duration": 7,
    "start_time": "2022-07-15T15:55:55.486Z"
   },
   {
    "duration": 6,
    "start_time": "2022-07-15T15:56:32.681Z"
   },
   {
    "duration": 7,
    "start_time": "2022-07-15T15:56:40.057Z"
   },
   {
    "duration": 28,
    "start_time": "2022-07-15T16:08:32.378Z"
   },
   {
    "duration": 35,
    "start_time": "2022-07-15T16:09:58.259Z"
   },
   {
    "duration": 5,
    "start_time": "2022-07-15T16:10:31.281Z"
   },
   {
    "duration": 6,
    "start_time": "2022-07-15T16:10:45.994Z"
   },
   {
    "duration": 7,
    "start_time": "2022-07-15T16:10:57.901Z"
   },
   {
    "duration": 7,
    "start_time": "2022-07-15T16:21:37.592Z"
   },
   {
    "duration": 8,
    "start_time": "2022-07-15T16:32:58.568Z"
   },
   {
    "duration": 20,
    "start_time": "2022-07-15T16:36:43.430Z"
   },
   {
    "duration": 4,
    "start_time": "2022-07-15T16:36:50.424Z"
   },
   {
    "duration": 702,
    "start_time": "2022-07-15T16:36:55.446Z"
   },
   {
    "duration": 113368,
    "start_time": "2022-07-15T16:37:40.529Z"
   },
   {
    "duration": 671,
    "start_time": "2022-07-15T16:44:51.410Z"
   },
   {
    "duration": 10,
    "start_time": "2022-07-15T17:18:36.577Z"
   },
   {
    "duration": 105,
    "start_time": "2022-07-15T17:19:10.060Z"
   },
   {
    "duration": 2,
    "start_time": "2022-07-15T17:19:15.313Z"
   },
   {
    "duration": 11,
    "start_time": "2022-07-15T17:20:29.226Z"
   },
   {
    "duration": 607,
    "start_time": "2022-07-15T17:20:47.399Z"
   },
   {
    "duration": 20,
    "start_time": "2022-07-15T17:20:51.662Z"
   },
   {
    "duration": 4,
    "start_time": "2022-07-15T17:20:57.813Z"
   },
   {
    "duration": 41,
    "start_time": "2022-07-15T17:20:57.819Z"
   },
   {
    "duration": 8,
    "start_time": "2022-07-15T17:20:57.862Z"
   },
   {
    "duration": 58,
    "start_time": "2022-07-15T17:20:57.878Z"
   },
   {
    "duration": 31,
    "start_time": "2022-07-15T17:20:57.938Z"
   },
   {
    "duration": 55,
    "start_time": "2022-07-15T17:20:57.971Z"
   },
   {
    "duration": 37,
    "start_time": "2022-07-15T17:20:58.028Z"
   },
   {
    "duration": 5,
    "start_time": "2022-07-15T17:20:58.067Z"
   },
   {
    "duration": 30,
    "start_time": "2022-07-15T17:20:58.074Z"
   },
   {
    "duration": 2911,
    "start_time": "2022-07-15T17:20:58.106Z"
   },
   {
    "duration": 4,
    "start_time": "2022-07-15T17:21:01.019Z"
   },
   {
    "duration": 1389,
    "start_time": "2022-07-15T17:21:01.025Z"
   },
   {
    "duration": 6,
    "start_time": "2022-07-15T17:21:02.417Z"
   },
   {
    "duration": 1768,
    "start_time": "2022-07-15T17:21:02.425Z"
   },
   {
    "duration": 8,
    "start_time": "2022-07-15T17:21:04.194Z"
   },
   {
    "duration": 27,
    "start_time": "2022-07-15T17:21:04.203Z"
   },
   {
    "duration": 54,
    "start_time": "2022-07-15T17:21:04.231Z"
   },
   {
    "duration": 79,
    "start_time": "2022-07-15T17:21:04.287Z"
   },
   {
    "duration": 102,
    "start_time": "2022-07-15T17:21:04.368Z"
   },
   {
    "duration": 17,
    "start_time": "2022-07-15T17:21:04.474Z"
   },
   {
    "duration": 347,
    "start_time": "2022-07-15T17:21:04.492Z"
   },
   {
    "duration": 42,
    "start_time": "2022-07-15T17:21:04.841Z"
   },
   {
    "duration": 6,
    "start_time": "2022-07-15T17:21:04.885Z"
   },
   {
    "duration": 7,
    "start_time": "2022-07-15T17:21:04.893Z"
   },
   {
    "duration": 7,
    "start_time": "2022-07-15T17:21:04.902Z"
   },
   {
    "duration": 701,
    "start_time": "2022-07-15T17:21:04.910Z"
   },
   {
    "duration": 117494,
    "start_time": "2022-07-15T17:21:05.613Z"
   },
   {
    "duration": 3,
    "start_time": "2022-07-15T17:23:03.109Z"
   },
   {
    "duration": 14,
    "start_time": "2022-07-15T17:23:03.113Z"
   },
   {
    "duration": 1453,
    "start_time": "2022-07-15T17:24:13.811Z"
   },
   {
    "duration": 3,
    "start_time": "2022-07-15T17:25:00.220Z"
   },
   {
    "duration": 20,
    "start_time": "2022-07-15T17:29:57.449Z"
   },
   {
    "duration": 18,
    "start_time": "2022-07-15T17:32:29.685Z"
   },
   {
    "duration": 20,
    "start_time": "2022-07-15T17:32:42.185Z"
   },
   {
    "duration": 19,
    "start_time": "2022-07-15T17:35:11.499Z"
   },
   {
    "duration": 27,
    "start_time": "2022-07-15T17:35:35.360Z"
   },
   {
    "duration": 4442,
    "start_time": "2022-07-15T17:35:37.917Z"
   },
   {
    "duration": 19,
    "start_time": "2022-07-15T17:38:38.904Z"
   },
   {
    "duration": 7121,
    "start_time": "2022-07-15T17:38:47.729Z"
   },
   {
    "duration": 4,
    "start_time": "2022-07-15T17:46:34.916Z"
   },
   {
    "duration": 1960,
    "start_time": "2022-07-15T17:52:00.444Z"
   },
   {
    "duration": 4,
    "start_time": "2022-07-15T17:53:04.229Z"
   },
   {
    "duration": 2362,
    "start_time": "2022-07-15T17:53:15.311Z"
   },
   {
    "duration": 4,
    "start_time": "2022-07-15T17:54:15.856Z"
   },
   {
    "duration": 66,
    "start_time": "2022-07-15T17:54:15.862Z"
   },
   {
    "duration": 6,
    "start_time": "2022-07-15T17:54:15.929Z"
   },
   {
    "duration": 62,
    "start_time": "2022-07-15T17:54:15.937Z"
   },
   {
    "duration": 4,
    "start_time": "2022-07-15T17:54:16.001Z"
   },
   {
    "duration": 89,
    "start_time": "2022-07-15T17:54:16.007Z"
   },
   {
    "duration": 15,
    "start_time": "2022-07-15T17:54:16.097Z"
   },
   {
    "duration": 3,
    "start_time": "2022-07-15T17:54:16.113Z"
   },
   {
    "duration": 14,
    "start_time": "2022-07-15T17:54:16.119Z"
   },
   {
    "duration": 2608,
    "start_time": "2022-07-15T17:54:16.135Z"
   },
   {
    "duration": 4,
    "start_time": "2022-07-15T17:54:18.745Z"
   },
   {
    "duration": 1693,
    "start_time": "2022-07-15T17:54:18.750Z"
   },
   {
    "duration": 19,
    "start_time": "2022-07-15T17:54:20.445Z"
   },
   {
    "duration": 1528,
    "start_time": "2022-07-15T17:54:20.466Z"
   },
   {
    "duration": 7,
    "start_time": "2022-07-15T17:54:21.996Z"
   },
   {
    "duration": 41,
    "start_time": "2022-07-15T17:54:22.004Z"
   },
   {
    "duration": 30,
    "start_time": "2022-07-15T17:54:22.047Z"
   },
   {
    "duration": 117,
    "start_time": "2022-07-15T17:54:22.079Z"
   },
   {
    "duration": 8,
    "start_time": "2022-07-15T17:54:22.197Z"
   },
   {
    "duration": 9,
    "start_time": "2022-07-15T17:54:22.207Z"
   },
   {
    "duration": 383,
    "start_time": "2022-07-15T17:54:22.218Z"
   },
   {
    "duration": 33,
    "start_time": "2022-07-15T17:54:22.603Z"
   },
   {
    "duration": 6,
    "start_time": "2022-07-15T17:54:22.638Z"
   },
   {
    "duration": 9,
    "start_time": "2022-07-15T17:54:22.664Z"
   },
   {
    "duration": 37,
    "start_time": "2022-07-15T17:54:22.675Z"
   },
   {
    "duration": 721,
    "start_time": "2022-07-15T17:54:22.717Z"
   },
   {
    "duration": 120322,
    "start_time": "2022-07-15T17:54:23.440Z"
   },
   {
    "duration": 4,
    "start_time": "2022-07-15T17:56:23.764Z"
   },
   {
    "duration": 1395,
    "start_time": "2022-07-15T17:56:23.770Z"
   },
   {
    "duration": 5,
    "start_time": "2022-07-15T17:56:25.167Z"
   },
   {
    "duration": 108,
    "start_time": "2022-07-15T17:56:25.174Z"
   },
   {
    "duration": 4,
    "start_time": "2022-07-15T17:56:25.284Z"
   },
   {
    "duration": 2353,
    "start_time": "2022-07-15T17:56:25.289Z"
   },
   {
    "duration": 1342,
    "start_time": "2022-07-16T10:10:18.190Z"
   },
   {
    "duration": 34,
    "start_time": "2022-07-16T10:10:19.534Z"
   },
   {
    "duration": 5,
    "start_time": "2022-07-16T10:10:19.570Z"
   },
   {
    "duration": 52,
    "start_time": "2022-07-16T10:10:19.576Z"
   },
   {
    "duration": 5,
    "start_time": "2022-07-16T10:10:19.631Z"
   },
   {
    "duration": 44,
    "start_time": "2022-07-16T10:10:19.665Z"
   },
   {
    "duration": 16,
    "start_time": "2022-07-16T10:10:19.711Z"
   },
   {
    "duration": 4,
    "start_time": "2022-07-16T10:10:19.728Z"
   },
   {
    "duration": 41,
    "start_time": "2022-07-16T10:10:19.733Z"
   },
   {
    "duration": 2528,
    "start_time": "2022-07-16T10:10:19.776Z"
   },
   {
    "duration": 6,
    "start_time": "2022-07-16T10:10:22.306Z"
   },
   {
    "duration": 1385,
    "start_time": "2022-07-16T10:10:22.314Z"
   },
   {
    "duration": 8,
    "start_time": "2022-07-16T10:10:23.701Z"
   },
   {
    "duration": 1398,
    "start_time": "2022-07-16T10:10:23.713Z"
   },
   {
    "duration": 9,
    "start_time": "2022-07-16T10:10:25.113Z"
   },
   {
    "duration": 40,
    "start_time": "2022-07-16T10:10:25.124Z"
   },
   {
    "duration": 5,
    "start_time": "2022-07-16T10:10:25.167Z"
   },
   {
    "duration": 189,
    "start_time": "2022-07-16T10:10:25.175Z"
   },
   {
    "duration": 10,
    "start_time": "2022-07-16T10:10:25.365Z"
   },
   {
    "duration": 10,
    "start_time": "2022-07-16T10:10:25.377Z"
   },
   {
    "duration": 475,
    "start_time": "2022-07-16T10:10:25.389Z"
   },
   {
    "duration": 28,
    "start_time": "2022-07-16T10:10:25.865Z"
   },
   {
    "duration": 4,
    "start_time": "2022-07-16T10:10:25.895Z"
   },
   {
    "duration": 7,
    "start_time": "2022-07-16T10:10:25.901Z"
   },
   {
    "duration": 7,
    "start_time": "2022-07-16T10:10:25.910Z"
   },
   {
    "duration": 624,
    "start_time": "2022-07-16T10:10:25.918Z"
   },
   {
    "duration": 108410,
    "start_time": "2022-07-16T10:10:26.543Z"
   },
   {
    "duration": 8,
    "start_time": "2022-07-16T10:12:14.955Z"
   },
   {
    "duration": 1503,
    "start_time": "2022-07-16T10:12:14.965Z"
   },
   {
    "duration": 94,
    "start_time": "2022-07-16T10:12:16.470Z"
   },
   {
    "duration": 125,
    "start_time": "2022-07-16T10:12:16.566Z"
   },
   {
    "duration": 0,
    "start_time": "2022-07-16T10:12:16.692Z"
   },
   {
    "duration": 0,
    "start_time": "2022-07-16T10:12:16.693Z"
   },
   {
    "duration": 28,
    "start_time": "2022-07-16T10:13:24.860Z"
   },
   {
    "duration": 5,
    "start_time": "2022-07-16T10:13:43.367Z"
   },
   {
    "duration": 1915,
    "start_time": "2022-07-16T10:13:45.610Z"
   },
   {
    "duration": 578,
    "start_time": "2022-07-16T10:18:44.632Z"
   },
   {
    "duration": 4,
    "start_time": "2022-07-16T10:24:16.619Z"
   },
   {
    "duration": 1389,
    "start_time": "2022-07-16T10:27:51.070Z"
   },
   {
    "duration": 35,
    "start_time": "2022-07-16T10:27:52.461Z"
   },
   {
    "duration": 5,
    "start_time": "2022-07-16T10:27:52.498Z"
   },
   {
    "duration": 66,
    "start_time": "2022-07-16T10:27:52.504Z"
   },
   {
    "duration": 6,
    "start_time": "2022-07-16T10:27:52.572Z"
   },
   {
    "duration": 71,
    "start_time": "2022-07-16T10:27:52.580Z"
   },
   {
    "duration": 34,
    "start_time": "2022-07-16T10:27:52.653Z"
   },
   {
    "duration": 4,
    "start_time": "2022-07-16T10:27:52.688Z"
   },
   {
    "duration": 29,
    "start_time": "2022-07-16T10:27:52.695Z"
   },
   {
    "duration": 2388,
    "start_time": "2022-07-16T10:27:52.728Z"
   },
   {
    "duration": 4,
    "start_time": "2022-07-16T10:27:55.118Z"
   },
   {
    "duration": 1228,
    "start_time": "2022-07-16T10:27:55.124Z"
   },
   {
    "duration": 15,
    "start_time": "2022-07-16T10:27:56.354Z"
   },
   {
    "duration": 1353,
    "start_time": "2022-07-16T10:27:56.370Z"
   },
   {
    "duration": 7,
    "start_time": "2022-07-16T10:27:57.725Z"
   },
   {
    "duration": 36,
    "start_time": "2022-07-16T10:27:57.733Z"
   },
   {
    "duration": 12,
    "start_time": "2022-07-16T10:27:57.770Z"
   },
   {
    "duration": 181,
    "start_time": "2022-07-16T10:27:57.786Z"
   },
   {
    "duration": 7,
    "start_time": "2022-07-16T10:27:57.968Z"
   },
   {
    "duration": 7,
    "start_time": "2022-07-16T10:27:57.976Z"
   },
   {
    "duration": 460,
    "start_time": "2022-07-16T10:27:57.985Z"
   },
   {
    "duration": 35,
    "start_time": "2022-07-16T10:27:58.447Z"
   },
   {
    "duration": 5,
    "start_time": "2022-07-16T10:27:58.483Z"
   },
   {
    "duration": 8,
    "start_time": "2022-07-16T10:27:58.489Z"
   },
   {
    "duration": 4,
    "start_time": "2022-07-16T10:27:58.499Z"
   },
   {
    "duration": 607,
    "start_time": "2022-07-16T10:27:58.505Z"
   },
   {
    "duration": 107137,
    "start_time": "2022-07-16T10:27:59.114Z"
   },
   {
    "duration": 2,
    "start_time": "2022-07-16T10:29:46.254Z"
   },
   {
    "duration": 1708,
    "start_time": "2022-07-16T10:29:46.263Z"
   },
   {
    "duration": 91,
    "start_time": "2022-07-16T10:29:47.973Z"
   },
   {
    "duration": 23,
    "start_time": "2022-07-16T10:29:48.066Z"
   },
   {
    "duration": 4,
    "start_time": "2022-07-16T10:29:48.090Z"
   },
   {
    "duration": 2033,
    "start_time": "2022-07-16T10:29:48.095Z"
   },
   {
    "duration": 4,
    "start_time": "2022-07-16T10:29:50.130Z"
   },
   {
    "duration": 1978,
    "start_time": "2022-07-16T10:29:50.136Z"
   },
   {
    "duration": 2169,
    "start_time": "2022-07-16T10:36:28.248Z"
   },
   {
    "duration": 2618,
    "start_time": "2022-07-16T10:37:26.263Z"
   },
   {
    "duration": 3916,
    "start_time": "2022-07-16T10:38:32.516Z"
   },
   {
    "duration": 887,
    "start_time": "2022-07-16T10:57:40.486Z"
   },
   {
    "duration": 848,
    "start_time": "2022-07-16T10:58:21.452Z"
   },
   {
    "duration": 842,
    "start_time": "2022-07-16T11:00:24.868Z"
   },
   {
    "duration": 9,
    "start_time": "2022-07-16T11:10:33.142Z"
   },
   {
    "duration": 11,
    "start_time": "2022-07-16T11:17:11.868Z"
   },
   {
    "duration": 8,
    "start_time": "2022-07-16T11:18:20.868Z"
   },
   {
    "duration": 11,
    "start_time": "2022-07-16T11:18:59.201Z"
   },
   {
    "duration": 10,
    "start_time": "2022-07-16T11:20:21.423Z"
   },
   {
    "duration": 9,
    "start_time": "2022-07-16T11:22:00.681Z"
   },
   {
    "duration": 62,
    "start_time": "2022-07-16T16:06:52.054Z"
   },
   {
    "duration": 8,
    "start_time": "2022-07-16T16:06:57.977Z"
   },
   {
    "duration": 1813,
    "start_time": "2022-07-16T16:07:00.916Z"
   },
   {
    "duration": 80,
    "start_time": "2022-07-16T16:07:02.738Z"
   },
   {
    "duration": 10,
    "start_time": "2022-07-16T16:07:02.820Z"
   },
   {
    "duration": 101,
    "start_time": "2022-07-16T16:07:02.832Z"
   },
   {
    "duration": 14,
    "start_time": "2022-07-16T16:07:02.939Z"
   },
   {
    "duration": 57,
    "start_time": "2022-07-16T16:07:02.956Z"
   },
   {
    "duration": 20,
    "start_time": "2022-07-16T16:07:03.015Z"
   },
   {
    "duration": 28,
    "start_time": "2022-07-16T16:07:03.044Z"
   },
   {
    "duration": 5,
    "start_time": "2022-07-16T16:07:03.075Z"
   },
   {
    "duration": 36,
    "start_time": "2022-07-16T16:07:03.082Z"
   },
   {
    "duration": 2861,
    "start_time": "2022-07-16T16:07:03.120Z"
   },
   {
    "duration": 5,
    "start_time": "2022-07-16T16:07:05.984Z"
   },
   {
    "duration": 1597,
    "start_time": "2022-07-16T16:07:05.990Z"
   },
   {
    "duration": 8,
    "start_time": "2022-07-16T16:07:07.593Z"
   },
   {
    "duration": 1600,
    "start_time": "2022-07-16T16:07:07.603Z"
   },
   {
    "duration": 20,
    "start_time": "2022-07-16T16:07:09.205Z"
   },
   {
    "duration": 58,
    "start_time": "2022-07-16T16:07:09.227Z"
   },
   {
    "duration": 52,
    "start_time": "2022-07-16T16:07:09.286Z"
   },
   {
    "duration": 104,
    "start_time": "2022-07-16T16:07:09.346Z"
   },
   {
    "duration": 10,
    "start_time": "2022-07-16T16:07:09.453Z"
   },
   {
    "duration": 11,
    "start_time": "2022-07-16T16:07:09.465Z"
   },
   {
    "duration": 501,
    "start_time": "2022-07-16T16:07:09.478Z"
   },
   {
    "duration": 52,
    "start_time": "2022-07-16T16:07:09.981Z"
   },
   {
    "duration": 7,
    "start_time": "2022-07-16T16:07:10.038Z"
   },
   {
    "duration": 21,
    "start_time": "2022-07-16T16:07:10.046Z"
   },
   {
    "duration": 12,
    "start_time": "2022-07-16T16:07:10.068Z"
   },
   {
    "duration": 721,
    "start_time": "2022-07-16T16:07:10.083Z"
   },
   {
    "duration": 118579,
    "start_time": "2022-07-16T16:07:10.807Z"
   },
   {
    "duration": 3,
    "start_time": "2022-07-16T16:09:09.388Z"
   },
   {
    "duration": 1051,
    "start_time": "2022-07-16T16:09:09.392Z"
   },
   {
    "duration": 6,
    "start_time": "2022-07-16T16:09:10.445Z"
   },
   {
    "duration": 138,
    "start_time": "2022-07-16T16:09:10.526Z"
   },
   {
    "duration": 4,
    "start_time": "2022-07-16T16:09:10.666Z"
   },
   {
    "duration": 4447,
    "start_time": "2022-07-16T16:09:10.672Z"
   },
   {
    "duration": 2409,
    "start_time": "2022-07-16T16:09:15.130Z"
   },
   {
    "duration": 4,
    "start_time": "2022-07-16T16:09:17.547Z"
   },
   {
    "duration": 2779,
    "start_time": "2022-07-16T16:09:17.553Z"
   },
   {
    "duration": 17,
    "start_time": "2022-07-16T16:09:20.335Z"
   },
   {
    "duration": 8,
    "start_time": "2022-07-16T16:35:55.110Z"
   },
   {
    "duration": 6,
    "start_time": "2022-07-16T16:36:10.884Z"
   },
   {
    "duration": 30,
    "start_time": "2022-07-16T16:36:20.919Z"
   },
   {
    "duration": 8,
    "start_time": "2022-07-16T16:36:39.998Z"
   },
   {
    "duration": 46,
    "start_time": "2022-07-16T19:55:40.607Z"
   },
   {
    "duration": 22,
    "start_time": "2022-07-16T20:10:15.554Z"
   },
   {
    "duration": 18,
    "start_time": "2022-07-16T20:10:46.171Z"
   },
   {
    "duration": 9,
    "start_time": "2022-07-16T20:11:51.613Z"
   },
   {
    "duration": 10,
    "start_time": "2022-07-16T20:12:30.779Z"
   },
   {
    "duration": 45,
    "start_time": "2022-07-17T09:06:41.276Z"
   },
   {
    "duration": 1552,
    "start_time": "2022-07-17T09:06:44.383Z"
   },
   {
    "duration": 71,
    "start_time": "2022-07-17T09:06:45.937Z"
   },
   {
    "duration": 5,
    "start_time": "2022-07-17T09:06:46.010Z"
   },
   {
    "duration": 51,
    "start_time": "2022-07-17T09:06:46.017Z"
   },
   {
    "duration": 873,
    "start_time": "2022-07-17T09:06:46.070Z"
   },
   {
    "duration": 0,
    "start_time": "2022-07-17T09:06:46.947Z"
   },
   {
    "duration": 0,
    "start_time": "2022-07-17T09:06:46.948Z"
   },
   {
    "duration": 0,
    "start_time": "2022-07-17T09:06:46.950Z"
   },
   {
    "duration": 0,
    "start_time": "2022-07-17T09:06:46.952Z"
   },
   {
    "duration": 0,
    "start_time": "2022-07-17T09:06:46.953Z"
   },
   {
    "duration": 0,
    "start_time": "2022-07-17T09:06:46.954Z"
   },
   {
    "duration": 0,
    "start_time": "2022-07-17T09:06:46.956Z"
   },
   {
    "duration": 0,
    "start_time": "2022-07-17T09:06:46.957Z"
   },
   {
    "duration": 0,
    "start_time": "2022-07-17T09:06:46.958Z"
   },
   {
    "duration": 0,
    "start_time": "2022-07-17T09:06:46.960Z"
   },
   {
    "duration": 0,
    "start_time": "2022-07-17T09:06:46.961Z"
   },
   {
    "duration": 0,
    "start_time": "2022-07-17T09:06:46.961Z"
   },
   {
    "duration": 0,
    "start_time": "2022-07-17T09:06:46.962Z"
   },
   {
    "duration": 0,
    "start_time": "2022-07-17T09:06:46.963Z"
   },
   {
    "duration": 0,
    "start_time": "2022-07-17T09:06:46.964Z"
   },
   {
    "duration": 0,
    "start_time": "2022-07-17T09:06:46.965Z"
   },
   {
    "duration": 0,
    "start_time": "2022-07-17T09:06:46.966Z"
   },
   {
    "duration": 0,
    "start_time": "2022-07-17T09:06:46.967Z"
   },
   {
    "duration": 0,
    "start_time": "2022-07-17T09:06:46.968Z"
   },
   {
    "duration": 0,
    "start_time": "2022-07-17T09:06:46.969Z"
   },
   {
    "duration": 0,
    "start_time": "2022-07-17T09:06:46.970Z"
   },
   {
    "duration": 0,
    "start_time": "2022-07-17T09:06:46.971Z"
   },
   {
    "duration": 0,
    "start_time": "2022-07-17T09:06:46.971Z"
   },
   {
    "duration": 0,
    "start_time": "2022-07-17T09:06:46.972Z"
   },
   {
    "duration": 0,
    "start_time": "2022-07-17T09:06:46.973Z"
   },
   {
    "duration": 0,
    "start_time": "2022-07-17T09:06:46.974Z"
   },
   {
    "duration": 0,
    "start_time": "2022-07-17T09:06:46.975Z"
   },
   {
    "duration": 0,
    "start_time": "2022-07-17T09:06:46.977Z"
   },
   {
    "duration": 0,
    "start_time": "2022-07-17T09:06:46.978Z"
   },
   {
    "duration": 0,
    "start_time": "2022-07-17T09:06:46.979Z"
   },
   {
    "duration": 0,
    "start_time": "2022-07-17T09:06:46.980Z"
   },
   {
    "duration": 0,
    "start_time": "2022-07-17T09:06:46.981Z"
   },
   {
    "duration": 0,
    "start_time": "2022-07-17T09:06:46.982Z"
   },
   {
    "duration": 0,
    "start_time": "2022-07-17T09:06:46.983Z"
   },
   {
    "duration": 8,
    "start_time": "2022-07-17T09:07:14.276Z"
   },
   {
    "duration": 5,
    "start_time": "2022-07-17T09:07:23.869Z"
   },
   {
    "duration": 3,
    "start_time": "2022-07-17T09:07:37.213Z"
   },
   {
    "duration": 4,
    "start_time": "2022-07-17T09:07:41.571Z"
   },
   {
    "duration": 40,
    "start_time": "2022-07-17T09:07:41.577Z"
   },
   {
    "duration": 4,
    "start_time": "2022-07-17T09:07:41.619Z"
   },
   {
    "duration": 63,
    "start_time": "2022-07-17T09:07:41.625Z"
   },
   {
    "duration": 8,
    "start_time": "2022-07-17T09:07:41.690Z"
   },
   {
    "duration": 10,
    "start_time": "2022-07-17T09:07:41.700Z"
   },
   {
    "duration": 24,
    "start_time": "2022-07-17T09:07:41.711Z"
   },
   {
    "duration": 52,
    "start_time": "2022-07-17T09:07:41.737Z"
   },
   {
    "duration": 18,
    "start_time": "2022-07-17T09:07:41.792Z"
   },
   {
    "duration": 6,
    "start_time": "2022-07-17T09:07:41.811Z"
   },
   {
    "duration": 14,
    "start_time": "2022-07-17T09:07:41.819Z"
   },
   {
    "duration": 2377,
    "start_time": "2022-07-17T09:07:41.835Z"
   },
   {
    "duration": 3,
    "start_time": "2022-07-17T09:07:44.214Z"
   },
   {
    "duration": 1257,
    "start_time": "2022-07-17T09:07:44.219Z"
   },
   {
    "duration": 5,
    "start_time": "2022-07-17T09:07:45.478Z"
   },
   {
    "duration": 1445,
    "start_time": "2022-07-17T09:07:45.484Z"
   },
   {
    "duration": 6,
    "start_time": "2022-07-17T09:07:46.931Z"
   },
   {
    "duration": 40,
    "start_time": "2022-07-17T09:07:46.938Z"
   },
   {
    "duration": 5,
    "start_time": "2022-07-17T09:07:46.979Z"
   },
   {
    "duration": 178,
    "start_time": "2022-07-17T09:07:46.986Z"
   },
   {
    "duration": 15,
    "start_time": "2022-07-17T09:07:47.166Z"
   },
   {
    "duration": 20,
    "start_time": "2022-07-17T09:07:47.182Z"
   },
   {
    "duration": 453,
    "start_time": "2022-07-17T09:07:47.204Z"
   },
   {
    "duration": 27,
    "start_time": "2022-07-17T09:07:47.660Z"
   },
   {
    "duration": 6,
    "start_time": "2022-07-17T09:07:47.688Z"
   },
   {
    "duration": 7,
    "start_time": "2022-07-17T09:07:47.696Z"
   },
   {
    "duration": 6,
    "start_time": "2022-07-17T09:07:47.705Z"
   },
   {
    "duration": 609,
    "start_time": "2022-07-17T09:07:47.713Z"
   },
   {
    "duration": 107368,
    "start_time": "2022-07-17T09:07:48.324Z"
   },
   {
    "duration": 3,
    "start_time": "2022-07-17T09:09:35.693Z"
   },
   {
    "duration": 1467,
    "start_time": "2022-07-17T09:09:35.697Z"
   },
   {
    "duration": 3,
    "start_time": "2022-07-17T09:09:37.166Z"
   },
   {
    "duration": 20,
    "start_time": "2022-07-17T09:09:37.171Z"
   },
   {
    "duration": 4,
    "start_time": "2022-07-17T09:09:37.192Z"
   },
   {
    "duration": 3877,
    "start_time": "2022-07-17T09:09:37.197Z"
   },
   {
    "duration": 2112,
    "start_time": "2022-07-17T09:09:41.075Z"
   },
   {
    "duration": 4,
    "start_time": "2022-07-17T09:09:43.188Z"
   },
   {
    "duration": 2395,
    "start_time": "2022-07-17T09:09:43.194Z"
   },
   {
    "duration": 8,
    "start_time": "2022-07-17T09:09:45.591Z"
   },
   {
    "duration": 5,
    "start_time": "2022-07-17T09:14:59.313Z"
   },
   {
    "duration": 14,
    "start_time": "2022-07-17T11:43:50.792Z"
   },
   {
    "duration": 27,
    "start_time": "2022-07-17T12:23:07.293Z"
   },
   {
    "duration": 4,
    "start_time": "2022-07-17T12:23:27.945Z"
   },
   {
    "duration": 37,
    "start_time": "2022-07-17T12:23:27.952Z"
   },
   {
    "duration": 5,
    "start_time": "2022-07-17T12:23:27.991Z"
   },
   {
    "duration": 48,
    "start_time": "2022-07-17T12:23:27.997Z"
   },
   {
    "duration": 5,
    "start_time": "2022-07-17T12:23:28.047Z"
   },
   {
    "duration": 9,
    "start_time": "2022-07-17T12:23:28.053Z"
   },
   {
    "duration": 9,
    "start_time": "2022-07-17T12:23:28.064Z"
   },
   {
    "duration": 43,
    "start_time": "2022-07-17T12:23:28.075Z"
   },
   {
    "duration": 10,
    "start_time": "2022-07-17T12:23:28.120Z"
   },
   {
    "duration": 4,
    "start_time": "2022-07-17T12:23:28.132Z"
   },
   {
    "duration": 30,
    "start_time": "2022-07-17T12:23:28.137Z"
   },
   {
    "duration": 1409,
    "start_time": "2022-07-17T12:26:08.651Z"
   },
   {
    "duration": 35,
    "start_time": "2022-07-17T12:26:10.062Z"
   },
   {
    "duration": 5,
    "start_time": "2022-07-17T12:26:10.098Z"
   },
   {
    "duration": 57,
    "start_time": "2022-07-17T12:26:10.105Z"
   },
   {
    "duration": 7,
    "start_time": "2022-07-17T12:26:10.165Z"
   },
   {
    "duration": 13,
    "start_time": "2022-07-17T12:26:10.173Z"
   },
   {
    "duration": 9,
    "start_time": "2022-07-17T12:26:10.187Z"
   },
   {
    "duration": 42,
    "start_time": "2022-07-17T12:26:10.198Z"
   },
   {
    "duration": 25,
    "start_time": "2022-07-17T12:26:10.241Z"
   },
   {
    "duration": 3,
    "start_time": "2022-07-17T12:26:10.267Z"
   },
   {
    "duration": 13,
    "start_time": "2022-07-17T12:26:10.272Z"
   },
   {
    "duration": 2454,
    "start_time": "2022-07-17T12:26:10.286Z"
   },
   {
    "duration": 4,
    "start_time": "2022-07-17T12:26:12.742Z"
   },
   {
    "duration": 1285,
    "start_time": "2022-07-17T12:26:12.750Z"
   },
   {
    "duration": 5,
    "start_time": "2022-07-17T12:26:14.037Z"
   },
   {
    "duration": 1466,
    "start_time": "2022-07-17T12:26:14.044Z"
   },
   {
    "duration": 6,
    "start_time": "2022-07-17T12:26:15.512Z"
   },
   {
    "duration": 47,
    "start_time": "2022-07-17T12:26:15.520Z"
   },
   {
    "duration": 8,
    "start_time": "2022-07-17T12:26:15.569Z"
   },
   {
    "duration": 86,
    "start_time": "2022-07-17T12:26:15.579Z"
   },
   {
    "duration": 99,
    "start_time": "2022-07-17T12:26:15.667Z"
   },
   {
    "duration": 6,
    "start_time": "2022-07-17T12:26:15.768Z"
   },
   {
    "duration": 447,
    "start_time": "2022-07-17T12:26:15.775Z"
   },
   {
    "duration": 40,
    "start_time": "2022-07-17T12:26:16.224Z"
   },
   {
    "duration": 5,
    "start_time": "2022-07-17T12:26:16.265Z"
   },
   {
    "duration": 5,
    "start_time": "2022-07-17T12:26:16.272Z"
   },
   {
    "duration": 18,
    "start_time": "2022-07-17T12:26:16.278Z"
   },
   {
    "duration": 644,
    "start_time": "2022-07-17T12:26:16.298Z"
   },
   {
    "duration": 110011,
    "start_time": "2022-07-17T12:26:16.944Z"
   },
   {
    "duration": 3,
    "start_time": "2022-07-17T12:28:06.960Z"
   },
   {
    "duration": 2001,
    "start_time": "2022-07-17T12:28:06.964Z"
   },
   {
    "duration": 4,
    "start_time": "2022-07-17T12:28:08.966Z"
   },
   {
    "duration": 40,
    "start_time": "2022-07-17T12:28:08.972Z"
   },
   {
    "duration": 8,
    "start_time": "2022-07-17T12:28:09.015Z"
   },
   {
    "duration": 4056,
    "start_time": "2022-07-17T12:28:09.025Z"
   },
   {
    "duration": 2303,
    "start_time": "2022-07-17T12:28:13.083Z"
   },
   {
    "duration": 4,
    "start_time": "2022-07-17T12:28:15.388Z"
   },
   {
    "duration": 2748,
    "start_time": "2022-07-17T12:28:15.394Z"
   },
   {
    "duration": 18,
    "start_time": "2022-07-17T12:28:18.144Z"
   },
   {
    "duration": 116,
    "start_time": "2022-07-17T12:29:47.024Z"
   },
   {
    "duration": 10,
    "start_time": "2022-07-17T12:30:18.149Z"
   },
   {
    "duration": 4,
    "start_time": "2022-07-17T12:30:23.612Z"
   },
   {
    "duration": 49,
    "start_time": "2022-07-17T12:30:23.617Z"
   },
   {
    "duration": 5,
    "start_time": "2022-07-17T12:30:23.668Z"
   },
   {
    "duration": 89,
    "start_time": "2022-07-17T12:30:23.675Z"
   },
   {
    "duration": 6,
    "start_time": "2022-07-17T12:30:23.766Z"
   },
   {
    "duration": 8,
    "start_time": "2022-07-17T12:30:23.773Z"
   },
   {
    "duration": 14,
    "start_time": "2022-07-17T12:30:23.783Z"
   },
   {
    "duration": 48,
    "start_time": "2022-07-17T12:30:23.799Z"
   },
   {
    "duration": 15,
    "start_time": "2022-07-17T12:30:23.849Z"
   },
   {
    "duration": 3,
    "start_time": "2022-07-17T12:30:23.866Z"
   },
   {
    "duration": 17,
    "start_time": "2022-07-17T12:30:23.872Z"
   },
   {
    "duration": 280578,
    "start_time": "2022-07-17T12:30:23.891Z"
   },
   {
    "duration": 3,
    "start_time": "2022-07-17T12:35:04.471Z"
   },
   {
    "duration": 1261,
    "start_time": "2022-07-17T12:35:04.476Z"
   },
   {
    "duration": 6,
    "start_time": "2022-07-17T12:35:05.738Z"
   },
   {
    "duration": 1474,
    "start_time": "2022-07-17T12:35:05.745Z"
   },
   {
    "duration": 7,
    "start_time": "2022-07-17T12:35:07.220Z"
   },
   {
    "duration": 37,
    "start_time": "2022-07-17T12:35:07.228Z"
   },
   {
    "duration": 9,
    "start_time": "2022-07-17T12:35:07.267Z"
   },
   {
    "duration": 88,
    "start_time": "2022-07-17T12:35:07.279Z"
   },
   {
    "duration": 119,
    "start_time": "2022-07-17T12:35:07.371Z"
   },
   {
    "duration": 12,
    "start_time": "2022-07-17T12:35:07.492Z"
   },
   {
    "duration": 324,
    "start_time": "2022-07-17T12:35:07.506Z"
   },
   {
    "duration": 38,
    "start_time": "2022-07-17T12:35:07.831Z"
   },
   {
    "duration": 4,
    "start_time": "2022-07-17T12:35:07.871Z"
   },
   {
    "duration": 8,
    "start_time": "2022-07-17T12:35:07.876Z"
   },
   {
    "duration": 6,
    "start_time": "2022-07-17T12:35:07.885Z"
   },
   {
    "duration": 543,
    "start_time": "2022-07-17T12:35:07.892Z"
   },
   {
    "duration": 112343,
    "start_time": "2022-07-17T12:35:08.438Z"
   },
   {
    "duration": 3,
    "start_time": "2022-07-17T12:37:00.783Z"
   },
   {
    "duration": 1572,
    "start_time": "2022-07-17T12:37:00.788Z"
   },
   {
    "duration": 3,
    "start_time": "2022-07-17T12:37:02.363Z"
   },
   {
    "duration": 24,
    "start_time": "2022-07-17T12:37:02.368Z"
   },
   {
    "duration": 4,
    "start_time": "2022-07-17T12:37:02.394Z"
   },
   {
    "duration": 4177,
    "start_time": "2022-07-17T12:37:02.399Z"
   },
   {
    "duration": 2247,
    "start_time": "2022-07-17T12:37:06.578Z"
   },
   {
    "duration": 4,
    "start_time": "2022-07-17T12:37:08.827Z"
   },
   {
    "duration": 2510,
    "start_time": "2022-07-17T12:37:08.833Z"
   },
   {
    "duration": 16,
    "start_time": "2022-07-17T12:37:11.345Z"
   },
   {
    "duration": 18,
    "start_time": "2022-07-17T12:42:04.696Z"
   },
   {
    "duration": 9,
    "start_time": "2022-07-17T12:42:18.587Z"
   },
   {
    "duration": 4,
    "start_time": "2022-07-17T12:42:25.054Z"
   },
   {
    "duration": 215,
    "start_time": "2022-07-17T12:42:28.010Z"
   },
   {
    "duration": 17,
    "start_time": "2022-07-17T12:43:04.925Z"
   },
   {
    "duration": 5,
    "start_time": "2022-07-17T12:43:16.429Z"
   },
   {
    "duration": 47,
    "start_time": "2022-07-17T12:43:16.436Z"
   },
   {
    "duration": 6,
    "start_time": "2022-07-17T12:43:16.485Z"
   },
   {
    "duration": 80,
    "start_time": "2022-07-17T12:43:16.493Z"
   },
   {
    "duration": 6,
    "start_time": "2022-07-17T12:43:16.575Z"
   },
   {
    "duration": 7,
    "start_time": "2022-07-17T12:43:16.583Z"
   },
   {
    "duration": 6,
    "start_time": "2022-07-17T12:43:16.592Z"
   },
   {
    "duration": 61,
    "start_time": "2022-07-17T12:43:16.600Z"
   },
   {
    "duration": 11,
    "start_time": "2022-07-17T12:43:16.663Z"
   },
   {
    "duration": 4,
    "start_time": "2022-07-17T12:43:16.676Z"
   },
   {
    "duration": 14,
    "start_time": "2022-07-17T12:43:16.681Z"
   },
   {
    "duration": 133,
    "start_time": "2022-07-17T12:43:16.697Z"
   },
   {
    "duration": 0,
    "start_time": "2022-07-17T12:43:16.833Z"
   },
   {
    "duration": 0,
    "start_time": "2022-07-17T12:43:16.834Z"
   },
   {
    "duration": 0,
    "start_time": "2022-07-17T12:43:16.835Z"
   },
   {
    "duration": 0,
    "start_time": "2022-07-17T12:43:16.836Z"
   },
   {
    "duration": 0,
    "start_time": "2022-07-17T12:43:16.837Z"
   },
   {
    "duration": 0,
    "start_time": "2022-07-17T12:43:16.837Z"
   },
   {
    "duration": 0,
    "start_time": "2022-07-17T12:43:16.838Z"
   },
   {
    "duration": 0,
    "start_time": "2022-07-17T12:43:16.839Z"
   },
   {
    "duration": 0,
    "start_time": "2022-07-17T12:43:16.840Z"
   },
   {
    "duration": 0,
    "start_time": "2022-07-17T12:43:16.841Z"
   },
   {
    "duration": 0,
    "start_time": "2022-07-17T12:43:16.842Z"
   },
   {
    "duration": 0,
    "start_time": "2022-07-17T12:43:16.860Z"
   },
   {
    "duration": 0,
    "start_time": "2022-07-17T12:43:16.861Z"
   },
   {
    "duration": 0,
    "start_time": "2022-07-17T12:43:16.862Z"
   },
   {
    "duration": 0,
    "start_time": "2022-07-17T12:43:16.863Z"
   },
   {
    "duration": 0,
    "start_time": "2022-07-17T12:43:16.864Z"
   },
   {
    "duration": 0,
    "start_time": "2022-07-17T12:43:16.864Z"
   },
   {
    "duration": 0,
    "start_time": "2022-07-17T12:43:16.865Z"
   },
   {
    "duration": 0,
    "start_time": "2022-07-17T12:43:16.866Z"
   },
   {
    "duration": 0,
    "start_time": "2022-07-17T12:43:16.867Z"
   },
   {
    "duration": 0,
    "start_time": "2022-07-17T12:43:16.868Z"
   },
   {
    "duration": 0,
    "start_time": "2022-07-17T12:43:16.869Z"
   },
   {
    "duration": 0,
    "start_time": "2022-07-17T12:43:16.869Z"
   },
   {
    "duration": 0,
    "start_time": "2022-07-17T12:43:16.870Z"
   },
   {
    "duration": 0,
    "start_time": "2022-07-17T12:43:16.871Z"
   },
   {
    "duration": 1,
    "start_time": "2022-07-17T12:43:16.872Z"
   },
   {
    "duration": 0,
    "start_time": "2022-07-17T12:43:16.873Z"
   },
   {
    "duration": 2325,
    "start_time": "2022-07-17T12:43:44.041Z"
   },
   {
    "duration": 2956,
    "start_time": "2022-07-17T13:01:35.151Z"
   },
   {
    "duration": 2292,
    "start_time": "2022-07-17T13:05:21.935Z"
   },
   {
    "duration": 5,
    "start_time": "2022-07-17T13:08:18.727Z"
   },
   {
    "duration": 55,
    "start_time": "2022-07-17T13:08:18.735Z"
   },
   {
    "duration": 4,
    "start_time": "2022-07-17T13:08:18.792Z"
   },
   {
    "duration": 78,
    "start_time": "2022-07-17T13:08:18.798Z"
   },
   {
    "duration": 5,
    "start_time": "2022-07-17T13:08:18.878Z"
   },
   {
    "duration": 16,
    "start_time": "2022-07-17T13:08:18.884Z"
   },
   {
    "duration": 33,
    "start_time": "2022-07-17T13:08:18.901Z"
   },
   {
    "duration": 65,
    "start_time": "2022-07-17T13:08:18.936Z"
   },
   {
    "duration": 10,
    "start_time": "2022-07-17T13:08:19.003Z"
   },
   {
    "duration": 11,
    "start_time": "2022-07-17T13:08:19.015Z"
   },
   {
    "duration": 33,
    "start_time": "2022-07-17T13:08:19.027Z"
   },
   {
    "duration": 2330,
    "start_time": "2022-07-17T13:08:19.061Z"
   },
   {
    "duration": 4,
    "start_time": "2022-07-17T13:08:21.394Z"
   },
   {
    "duration": 1226,
    "start_time": "2022-07-17T13:08:21.402Z"
   },
   {
    "duration": 6,
    "start_time": "2022-07-17T13:08:22.629Z"
   },
   {
    "duration": 1492,
    "start_time": "2022-07-17T13:08:22.636Z"
   },
   {
    "duration": 6,
    "start_time": "2022-07-17T13:08:24.130Z"
   },
   {
    "duration": 34,
    "start_time": "2022-07-17T13:08:24.137Z"
   },
   {
    "duration": 8,
    "start_time": "2022-07-17T13:08:24.172Z"
   },
   {
    "duration": 179,
    "start_time": "2022-07-17T13:08:24.182Z"
   },
   {
    "duration": 7,
    "start_time": "2022-07-17T13:08:24.363Z"
   },
   {
    "duration": 6,
    "start_time": "2022-07-17T13:08:24.372Z"
   },
   {
    "duration": 358,
    "start_time": "2022-07-17T13:08:24.379Z"
   },
   {
    "duration": 42,
    "start_time": "2022-07-17T13:08:24.738Z"
   },
   {
    "duration": 4,
    "start_time": "2022-07-17T13:08:24.782Z"
   },
   {
    "duration": 12,
    "start_time": "2022-07-17T13:08:24.788Z"
   },
   {
    "duration": 9,
    "start_time": "2022-07-17T13:08:24.802Z"
   },
   {
    "duration": 567,
    "start_time": "2022-07-17T13:08:24.813Z"
   },
   {
    "duration": 107422,
    "start_time": "2022-07-17T13:08:25.382Z"
   },
   {
    "duration": 3,
    "start_time": "2022-07-17T13:10:12.806Z"
   },
   {
    "duration": 1658,
    "start_time": "2022-07-17T13:10:12.810Z"
   },
   {
    "duration": 92,
    "start_time": "2022-07-17T13:10:14.470Z"
   },
   {
    "duration": 25,
    "start_time": "2022-07-17T13:10:14.564Z"
   },
   {
    "duration": 4,
    "start_time": "2022-07-17T13:10:14.590Z"
   },
   {
    "duration": 4084,
    "start_time": "2022-07-17T13:10:14.595Z"
   },
   {
    "duration": 2182,
    "start_time": "2022-07-17T13:10:18.681Z"
   },
   {
    "duration": 5,
    "start_time": "2022-07-17T13:10:20.864Z"
   },
   {
    "duration": 2467,
    "start_time": "2022-07-17T13:10:20.870Z"
   },
   {
    "duration": 9,
    "start_time": "2022-07-17T13:10:23.339Z"
   },
   {
    "duration": 1772,
    "start_time": "2022-07-17T16:13:02.299Z"
   },
   {
    "duration": 68,
    "start_time": "2022-07-17T16:13:04.073Z"
   },
   {
    "duration": 5,
    "start_time": "2022-07-17T16:13:04.142Z"
   },
   {
    "duration": 70,
    "start_time": "2022-07-17T16:13:04.149Z"
   },
   {
    "duration": 8,
    "start_time": "2022-07-17T16:13:04.220Z"
   },
   {
    "duration": 13,
    "start_time": "2022-07-17T16:13:04.229Z"
   },
   {
    "duration": 27,
    "start_time": "2022-07-17T16:13:04.243Z"
   },
   {
    "duration": 50,
    "start_time": "2022-07-17T16:13:04.272Z"
   },
   {
    "duration": 11,
    "start_time": "2022-07-17T16:13:04.324Z"
   },
   {
    "duration": 3,
    "start_time": "2022-07-17T16:13:04.337Z"
   },
   {
    "duration": 31,
    "start_time": "2022-07-17T16:13:04.341Z"
   },
   {
    "duration": 2500,
    "start_time": "2022-07-17T16:13:04.376Z"
   },
   {
    "duration": 4,
    "start_time": "2022-07-17T16:13:06.878Z"
   },
   {
    "duration": 1284,
    "start_time": "2022-07-17T16:13:06.883Z"
   },
   {
    "duration": 7,
    "start_time": "2022-07-17T16:13:08.169Z"
   },
   {
    "duration": 1437,
    "start_time": "2022-07-17T16:13:08.179Z"
   },
   {
    "duration": 6,
    "start_time": "2022-07-17T16:13:09.618Z"
   },
   {
    "duration": 27,
    "start_time": "2022-07-17T16:13:09.626Z"
   },
   {
    "duration": 21,
    "start_time": "2022-07-17T16:13:09.655Z"
   },
   {
    "duration": 104,
    "start_time": "2022-07-17T16:13:09.763Z"
   },
   {
    "duration": 16,
    "start_time": "2022-07-17T16:13:09.869Z"
   },
   {
    "duration": 15,
    "start_time": "2022-07-17T16:13:09.887Z"
   },
   {
    "duration": 455,
    "start_time": "2022-07-17T16:13:09.904Z"
   },
   {
    "duration": 48,
    "start_time": "2022-07-17T16:13:10.361Z"
   },
   {
    "duration": 6,
    "start_time": "2022-07-17T16:13:10.410Z"
   },
   {
    "duration": 10,
    "start_time": "2022-07-17T16:13:10.417Z"
   },
   {
    "duration": 7,
    "start_time": "2022-07-17T16:13:10.429Z"
   },
   {
    "duration": 642,
    "start_time": "2022-07-17T16:13:10.441Z"
   },
   {
    "duration": 113936,
    "start_time": "2022-07-17T16:13:11.085Z"
   },
   {
    "duration": 3,
    "start_time": "2022-07-17T16:15:05.023Z"
   },
   {
    "duration": 1056,
    "start_time": "2022-07-17T16:15:05.027Z"
   },
   {
    "duration": 87,
    "start_time": "2022-07-17T16:15:06.085Z"
   },
   {
    "duration": 118,
    "start_time": "2022-07-17T16:15:06.174Z"
   },
   {
    "duration": 4,
    "start_time": "2022-07-17T16:15:06.294Z"
   },
   {
    "duration": 4180,
    "start_time": "2022-07-17T16:15:06.300Z"
   },
   {
    "duration": 2318,
    "start_time": "2022-07-17T16:15:10.482Z"
   },
   {
    "duration": 5,
    "start_time": "2022-07-17T16:15:12.802Z"
   },
   {
    "duration": 2463,
    "start_time": "2022-07-17T16:15:12.808Z"
   },
   {
    "duration": 8,
    "start_time": "2022-07-17T16:15:15.273Z"
   },
   {
    "duration": 1440,
    "start_time": "2022-07-17T16:16:07.081Z"
   },
   {
    "duration": 34,
    "start_time": "2022-07-17T16:16:08.523Z"
   },
   {
    "duration": 5,
    "start_time": "2022-07-17T16:16:08.559Z"
   },
   {
    "duration": 64,
    "start_time": "2022-07-17T16:16:08.568Z"
   },
   {
    "duration": 7,
    "start_time": "2022-07-17T16:16:08.634Z"
   },
   {
    "duration": 25,
    "start_time": "2022-07-17T16:16:08.642Z"
   },
   {
    "duration": 17,
    "start_time": "2022-07-17T16:16:08.669Z"
   },
   {
    "duration": 46,
    "start_time": "2022-07-17T16:16:08.688Z"
   },
   {
    "duration": 10,
    "start_time": "2022-07-17T16:16:08.736Z"
   },
   {
    "duration": 17,
    "start_time": "2022-07-17T16:16:08.749Z"
   },
   {
    "duration": 11,
    "start_time": "2022-07-17T16:16:08.776Z"
   },
   {
    "duration": 2642,
    "start_time": "2022-07-17T16:16:08.790Z"
   },
   {
    "duration": 5,
    "start_time": "2022-07-17T16:16:11.433Z"
   },
   {
    "duration": 1287,
    "start_time": "2022-07-17T16:16:11.440Z"
   },
   {
    "duration": 7,
    "start_time": "2022-07-17T16:16:12.729Z"
   },
   {
    "duration": 1425,
    "start_time": "2022-07-17T16:16:12.738Z"
   },
   {
    "duration": 7,
    "start_time": "2022-07-17T16:16:14.165Z"
   },
   {
    "duration": 32,
    "start_time": "2022-07-17T16:16:14.174Z"
   },
   {
    "duration": 6,
    "start_time": "2022-07-17T16:16:14.207Z"
   },
   {
    "duration": 56,
    "start_time": "2022-07-17T16:16:14.215Z"
   },
   {
    "duration": 88,
    "start_time": "2022-07-17T16:16:14.282Z"
   },
   {
    "duration": 14,
    "start_time": "2022-07-17T16:16:14.373Z"
   },
   {
    "duration": 464,
    "start_time": "2022-07-17T16:16:14.390Z"
   },
   {
    "duration": 28,
    "start_time": "2022-07-17T16:16:14.856Z"
   },
   {
    "duration": 6,
    "start_time": "2022-07-17T16:16:14.886Z"
   },
   {
    "duration": 11,
    "start_time": "2022-07-17T16:16:14.893Z"
   },
   {
    "duration": 5,
    "start_time": "2022-07-17T16:16:14.906Z"
   },
   {
    "duration": 645,
    "start_time": "2022-07-17T16:16:14.914Z"
   },
   {
    "duration": 111551,
    "start_time": "2022-07-17T16:16:15.565Z"
   },
   {
    "duration": 2,
    "start_time": "2022-07-17T16:18:07.118Z"
   },
   {
    "duration": 1257,
    "start_time": "2022-07-17T16:18:07.122Z"
   },
   {
    "duration": 6,
    "start_time": "2022-07-17T16:18:08.463Z"
   },
   {
    "duration": 34,
    "start_time": "2022-07-17T16:18:08.471Z"
   },
   {
    "duration": 59,
    "start_time": "2022-07-17T16:18:08.506Z"
   },
   {
    "duration": 4481,
    "start_time": "2022-07-17T16:18:08.567Z"
   },
   {
    "duration": 2325,
    "start_time": "2022-07-17T16:18:13.050Z"
   },
   {
    "duration": 4,
    "start_time": "2022-07-17T16:18:15.377Z"
   },
   {
    "duration": 2647,
    "start_time": "2022-07-17T16:18:15.383Z"
   },
   {
    "duration": 10,
    "start_time": "2022-07-17T16:18:18.031Z"
   },
   {
    "duration": 5,
    "start_time": "2022-07-17T16:18:18.230Z"
   },
   {
    "duration": 54,
    "start_time": "2022-07-17T16:18:18.237Z"
   },
   {
    "duration": 6,
    "start_time": "2022-07-17T16:18:18.293Z"
   },
   {
    "duration": 68,
    "start_time": "2022-07-17T16:18:18.301Z"
   },
   {
    "duration": 8,
    "start_time": "2022-07-17T16:18:18.372Z"
   },
   {
    "duration": 13,
    "start_time": "2022-07-17T16:18:18.383Z"
   },
   {
    "duration": 6,
    "start_time": "2022-07-17T16:18:18.398Z"
   },
   {
    "duration": 68,
    "start_time": "2022-07-17T16:18:18.406Z"
   },
   {
    "duration": 13,
    "start_time": "2022-07-17T16:18:18.479Z"
   },
   {
    "duration": 3,
    "start_time": "2022-07-17T16:18:18.493Z"
   },
   {
    "duration": 18,
    "start_time": "2022-07-17T16:18:18.498Z"
   },
   {
    "duration": 2603,
    "start_time": "2022-07-17T16:18:18.517Z"
   },
   {
    "duration": 4,
    "start_time": "2022-07-17T16:18:21.122Z"
   },
   {
    "duration": 1377,
    "start_time": "2022-07-17T16:18:21.128Z"
   },
   {
    "duration": 6,
    "start_time": "2022-07-17T16:18:22.507Z"
   },
   {
    "duration": 1625,
    "start_time": "2022-07-17T16:18:22.515Z"
   },
   {
    "duration": 6,
    "start_time": "2022-07-17T16:18:24.142Z"
   },
   {
    "duration": 38,
    "start_time": "2022-07-17T16:18:24.150Z"
   },
   {
    "duration": 5,
    "start_time": "2022-07-17T16:18:24.190Z"
   },
   {
    "duration": 77,
    "start_time": "2022-07-17T16:18:24.196Z"
   },
   {
    "duration": 88,
    "start_time": "2022-07-17T16:18:24.279Z"
   },
   {
    "duration": 12,
    "start_time": "2022-07-17T16:18:24.369Z"
   },
   {
    "duration": 353,
    "start_time": "2022-07-17T16:18:24.383Z"
   },
   {
    "duration": 40,
    "start_time": "2022-07-17T16:18:24.739Z"
   },
   {
    "duration": 7,
    "start_time": "2022-07-17T16:18:24.781Z"
   },
   {
    "duration": 12,
    "start_time": "2022-07-17T16:18:24.789Z"
   },
   {
    "duration": 5,
    "start_time": "2022-07-17T16:18:24.803Z"
   },
   {
    "duration": 630,
    "start_time": "2022-07-17T16:18:24.810Z"
   },
   {
    "duration": 114431,
    "start_time": "2022-07-17T16:18:25.443Z"
   },
   {
    "duration": 4,
    "start_time": "2022-07-17T16:20:19.877Z"
   },
   {
    "duration": 1386,
    "start_time": "2022-07-17T16:20:19.883Z"
   },
   {
    "duration": 7,
    "start_time": "2022-07-17T16:20:21.271Z"
   },
   {
    "duration": 119,
    "start_time": "2022-07-17T16:20:21.283Z"
   },
   {
    "duration": 85,
    "start_time": "2022-07-17T16:20:21.404Z"
   },
   {
    "duration": 4174,
    "start_time": "2022-07-17T16:20:21.491Z"
   },
   {
    "duration": 2094,
    "start_time": "2022-07-17T16:20:25.667Z"
   },
   {
    "duration": 3,
    "start_time": "2022-07-17T16:20:27.763Z"
   },
   {
    "duration": 3995,
    "start_time": "2022-07-17T16:20:27.768Z"
   },
   {
    "duration": 9,
    "start_time": "2022-07-17T16:20:31.765Z"
   },
   {
    "duration": 106366,
    "start_time": "2022-07-17T16:52:22.982Z"
   },
   {
    "duration": 1562,
    "start_time": "2022-07-17T16:55:34.620Z"
   },
   {
    "duration": 1519,
    "start_time": "2022-07-17T16:55:47.038Z"
   },
   {
    "duration": 4259,
    "start_time": "2022-07-17T16:57:22.528Z"
   },
   {
    "duration": 1804,
    "start_time": "2022-07-17T17:07:13.300Z"
   },
   {
    "duration": 216,
    "start_time": "2022-07-17T17:08:44.007Z"
   },
   {
    "duration": 7730,
    "start_time": "2022-07-17T17:16:41.339Z"
   },
   {
    "duration": 8261,
    "start_time": "2022-07-17T17:17:19.740Z"
   },
   {
    "duration": 7225,
    "start_time": "2022-07-17T17:17:30.877Z"
   },
   {
    "duration": 7481,
    "start_time": "2022-07-17T17:21:12.306Z"
   },
   {
    "duration": 7507,
    "start_time": "2022-07-17T17:21:57.285Z"
   },
   {
    "duration": 7272,
    "start_time": "2022-07-17T17:27:33.280Z"
   },
   {
    "duration": 5100,
    "start_time": "2022-07-17T17:31:44.337Z"
   },
   {
    "duration": 2278,
    "start_time": "2022-07-17T17:34:05.880Z"
   },
   {
    "duration": 1808,
    "start_time": "2022-07-17T17:37:51.891Z"
   },
   {
    "duration": 2211,
    "start_time": "2022-07-17T17:38:58.114Z"
   },
   {
    "duration": 20,
    "start_time": "2022-07-17T19:41:53.425Z"
   },
   {
    "duration": 4,
    "start_time": "2022-07-17T19:44:21.948Z"
   },
   {
    "duration": 2225,
    "start_time": "2022-07-17T19:44:24.318Z"
   },
   {
    "duration": 2912,
    "start_time": "2022-07-17T19:44:35.002Z"
   },
   {
    "duration": 6,
    "start_time": "2022-07-17T21:02:15.551Z"
   },
   {
    "duration": 120,
    "start_time": "2022-07-18T09:52:05.163Z"
   },
   {
    "duration": 47,
    "start_time": "2022-07-18T09:52:14.213Z"
   },
   {
    "duration": 1649,
    "start_time": "2022-07-18T09:52:29.805Z"
   },
   {
    "duration": 126,
    "start_time": "2022-07-18T09:52:31.459Z"
   },
   {
    "duration": 5,
    "start_time": "2022-07-18T09:52:31.586Z"
   },
   {
    "duration": 73,
    "start_time": "2022-07-18T09:52:31.592Z"
   },
   {
    "duration": 8,
    "start_time": "2022-07-18T09:52:31.667Z"
   },
   {
    "duration": 30,
    "start_time": "2022-07-18T09:52:31.677Z"
   },
   {
    "duration": 13,
    "start_time": "2022-07-18T09:52:31.709Z"
   },
   {
    "duration": 41,
    "start_time": "2022-07-18T09:52:31.724Z"
   },
   {
    "duration": 10,
    "start_time": "2022-07-18T09:52:31.767Z"
   },
   {
    "duration": 35,
    "start_time": "2022-07-18T09:52:31.778Z"
   },
   {
    "duration": 24,
    "start_time": "2022-07-18T09:52:31.814Z"
   },
   {
    "duration": 2597,
    "start_time": "2022-07-18T09:52:31.840Z"
   },
   {
    "duration": 4,
    "start_time": "2022-07-18T09:52:34.438Z"
   },
   {
    "duration": 1302,
    "start_time": "2022-07-18T09:52:34.446Z"
   },
   {
    "duration": 6,
    "start_time": "2022-07-18T09:52:35.750Z"
   },
   {
    "duration": 1332,
    "start_time": "2022-07-18T09:52:35.758Z"
   },
   {
    "duration": 17,
    "start_time": "2022-07-18T09:52:37.092Z"
   },
   {
    "duration": 51,
    "start_time": "2022-07-18T09:52:37.112Z"
   },
   {
    "duration": 12,
    "start_time": "2022-07-18T09:52:37.165Z"
   },
   {
    "duration": 127,
    "start_time": "2022-07-18T09:52:37.179Z"
   },
   {
    "duration": 12,
    "start_time": "2022-07-18T09:52:37.309Z"
   },
   {
    "duration": 13,
    "start_time": "2022-07-18T09:52:37.323Z"
   },
   {
    "duration": 508,
    "start_time": "2022-07-18T09:52:37.339Z"
   },
   {
    "duration": 26,
    "start_time": "2022-07-18T09:52:37.849Z"
   },
   {
    "duration": 5,
    "start_time": "2022-07-18T09:52:37.877Z"
   },
   {
    "duration": 25,
    "start_time": "2022-07-18T09:52:37.884Z"
   },
   {
    "duration": 7,
    "start_time": "2022-07-18T09:52:37.911Z"
   },
   {
    "duration": 512,
    "start_time": "2022-07-18T09:52:37.920Z"
   },
   {
    "duration": 111163,
    "start_time": "2022-07-18T09:52:38.433Z"
   },
   {
    "duration": 4,
    "start_time": "2022-07-18T09:54:29.598Z"
   },
   {
    "duration": 1112,
    "start_time": "2022-07-18T09:54:29.605Z"
   },
   {
    "duration": 8,
    "start_time": "2022-07-18T09:54:30.719Z"
   },
   {
    "duration": 25,
    "start_time": "2022-07-18T09:54:30.805Z"
   },
   {
    "duration": 4,
    "start_time": "2022-07-18T09:54:30.832Z"
   },
   {
    "duration": 2144,
    "start_time": "2022-07-18T09:54:30.837Z"
   },
   {
    "duration": 4,
    "start_time": "2022-07-18T09:54:32.982Z"
   },
   {
    "duration": 3150,
    "start_time": "2022-07-18T09:54:32.987Z"
   },
   {
    "duration": 10,
    "start_time": "2022-07-18T09:54:36.139Z"
   },
   {
    "duration": 2396,
    "start_time": "2022-07-18T09:55:50.449Z"
   },
   {
    "duration": 4,
    "start_time": "2022-07-18T11:31:19.298Z"
   },
   {
    "duration": 7,
    "start_time": "2022-07-18T11:32:25.542Z"
   },
   {
    "duration": 22,
    "start_time": "2022-07-18T11:32:29.555Z"
   },
   {
    "duration": 8,
    "start_time": "2022-07-18T11:32:32.229Z"
   },
   {
    "duration": 6,
    "start_time": "2022-07-18T11:32:35.239Z"
   },
   {
    "duration": 6,
    "start_time": "2022-07-18T11:32:38.552Z"
   },
   {
    "duration": 6,
    "start_time": "2022-07-18T11:32:41.342Z"
   },
   {
    "duration": 241,
    "start_time": "2022-07-18T11:32:45.723Z"
   },
   {
    "duration": 23,
    "start_time": "2022-07-18T11:32:48.765Z"
   },
   {
    "duration": 5,
    "start_time": "2022-07-18T11:32:50.813Z"
   },
   {
    "duration": 7,
    "start_time": "2022-07-18T11:32:53.588Z"
   },
   {
    "duration": 6,
    "start_time": "2022-07-18T11:32:56.653Z"
   },
   {
    "duration": 5,
    "start_time": "2022-07-18T11:38:48.093Z"
   },
   {
    "duration": 47,
    "start_time": "2022-07-18T11:38:48.099Z"
   },
   {
    "duration": 4,
    "start_time": "2022-07-18T11:38:48.149Z"
   },
   {
    "duration": 42,
    "start_time": "2022-07-18T11:38:48.155Z"
   },
   {
    "duration": 11,
    "start_time": "2022-07-18T11:38:48.199Z"
   },
   {
    "duration": 16,
    "start_time": "2022-07-18T11:38:48.211Z"
   },
   {
    "duration": 8,
    "start_time": "2022-07-18T11:38:48.229Z"
   },
   {
    "duration": 42,
    "start_time": "2022-07-18T11:38:48.239Z"
   },
   {
    "duration": 31,
    "start_time": "2022-07-18T11:38:48.283Z"
   },
   {
    "duration": 6,
    "start_time": "2022-07-18T11:38:48.315Z"
   },
   {
    "duration": 13,
    "start_time": "2022-07-18T11:38:48.323Z"
   },
   {
    "duration": 2406,
    "start_time": "2022-07-18T11:38:48.338Z"
   },
   {
    "duration": 5,
    "start_time": "2022-07-18T11:38:50.746Z"
   },
   {
    "duration": 1219,
    "start_time": "2022-07-18T11:38:50.752Z"
   },
   {
    "duration": 5,
    "start_time": "2022-07-18T11:38:51.972Z"
   },
   {
    "duration": 1372,
    "start_time": "2022-07-18T11:38:51.979Z"
   },
   {
    "duration": 4,
    "start_time": "2022-07-18T11:38:53.352Z"
   },
   {
    "duration": 9,
    "start_time": "2022-07-18T11:38:53.357Z"
   },
   {
    "duration": 49,
    "start_time": "2022-07-18T11:38:53.367Z"
   },
   {
    "duration": 5,
    "start_time": "2022-07-18T11:38:53.417Z"
   },
   {
    "duration": 9,
    "start_time": "2022-07-18T11:38:53.424Z"
   },
   {
    "duration": 8,
    "start_time": "2022-07-18T11:38:53.435Z"
   },
   {
    "duration": 7,
    "start_time": "2022-07-18T11:38:53.445Z"
   },
   {
    "duration": 314,
    "start_time": "2022-07-18T11:38:53.453Z"
   },
   {
    "duration": 35,
    "start_time": "2022-07-18T11:38:53.768Z"
   },
   {
    "duration": 13,
    "start_time": "2022-07-18T11:38:53.808Z"
   },
   {
    "duration": 7,
    "start_time": "2022-07-18T11:38:53.823Z"
   },
   {
    "duration": 6,
    "start_time": "2022-07-18T11:38:53.832Z"
   },
   {
    "duration": 617,
    "start_time": "2022-07-18T11:38:53.842Z"
   },
   {
    "duration": 104706,
    "start_time": "2022-07-18T11:38:54.461Z"
   },
   {
    "duration": 3,
    "start_time": "2022-07-18T11:40:39.169Z"
   },
   {
    "duration": 1235,
    "start_time": "2022-07-18T11:40:39.173Z"
   },
   {
    "duration": 7,
    "start_time": "2022-07-18T11:40:40.413Z"
   },
   {
    "duration": 103,
    "start_time": "2022-07-18T11:40:40.424Z"
   },
   {
    "duration": 5,
    "start_time": "2022-07-18T11:40:40.529Z"
   },
   {
    "duration": 1931,
    "start_time": "2022-07-18T11:40:40.536Z"
   },
   {
    "duration": 5,
    "start_time": "2022-07-18T11:40:42.469Z"
   },
   {
    "duration": 2786,
    "start_time": "2022-07-18T11:40:42.476Z"
   },
   {
    "duration": 11,
    "start_time": "2022-07-18T11:40:45.264Z"
   },
   {
    "duration": 4,
    "start_time": "2022-07-18T11:44:28.322Z"
   },
   {
    "duration": 5,
    "start_time": "2022-07-18T11:44:47.487Z"
   },
   {
    "duration": 4,
    "start_time": "2022-07-18T11:44:54.036Z"
   },
   {
    "duration": 45,
    "start_time": "2022-07-18T11:44:54.042Z"
   },
   {
    "duration": 5,
    "start_time": "2022-07-18T11:44:54.089Z"
   },
   {
    "duration": 66,
    "start_time": "2022-07-18T11:44:54.096Z"
   },
   {
    "duration": 5,
    "start_time": "2022-07-18T11:44:54.164Z"
   },
   {
    "duration": 22,
    "start_time": "2022-07-18T11:44:54.171Z"
   },
   {
    "duration": 49,
    "start_time": "2022-07-18T11:44:54.195Z"
   },
   {
    "duration": 67,
    "start_time": "2022-07-18T11:44:54.246Z"
   },
   {
    "duration": 9,
    "start_time": "2022-07-18T11:44:54.316Z"
   },
   {
    "duration": 17,
    "start_time": "2022-07-18T11:44:54.327Z"
   },
   {
    "duration": 39,
    "start_time": "2022-07-18T11:44:54.346Z"
   },
   {
    "duration": 2604,
    "start_time": "2022-07-18T11:44:54.386Z"
   },
   {
    "duration": 16,
    "start_time": "2022-07-18T11:44:56.992Z"
   },
   {
    "duration": 1268,
    "start_time": "2022-07-18T11:44:57.011Z"
   },
   {
    "duration": 4,
    "start_time": "2022-07-18T11:44:58.282Z"
   },
   {
    "duration": 1367,
    "start_time": "2022-07-18T11:44:58.288Z"
   },
   {
    "duration": 5,
    "start_time": "2022-07-18T11:44:59.657Z"
   },
   {
    "duration": 21,
    "start_time": "2022-07-18T11:44:59.669Z"
   },
   {
    "duration": 28,
    "start_time": "2022-07-18T11:44:59.692Z"
   },
   {
    "duration": 28,
    "start_time": "2022-07-18T11:44:59.722Z"
   },
   {
    "duration": 5,
    "start_time": "2022-07-18T11:44:59.751Z"
   },
   {
    "duration": 54,
    "start_time": "2022-07-18T11:44:59.758Z"
   },
   {
    "duration": 117,
    "start_time": "2022-07-18T11:44:59.814Z"
   },
   {
    "duration": 9,
    "start_time": "2022-07-18T11:44:59.934Z"
   },
   {
    "duration": 431,
    "start_time": "2022-07-18T11:44:59.945Z"
   },
   {
    "duration": 43,
    "start_time": "2022-07-18T11:45:00.377Z"
   },
   {
    "duration": 5,
    "start_time": "2022-07-18T11:45:00.421Z"
   },
   {
    "duration": 14,
    "start_time": "2022-07-18T11:45:00.427Z"
   },
   {
    "duration": 26,
    "start_time": "2022-07-18T11:45:00.442Z"
   },
   {
    "duration": 563,
    "start_time": "2022-07-18T11:45:00.470Z"
   },
   {
    "duration": 1422,
    "start_time": "2022-07-18T11:46:38.153Z"
   },
   {
    "duration": 42,
    "start_time": "2022-07-18T11:46:39.577Z"
   },
   {
    "duration": 10,
    "start_time": "2022-07-18T11:46:39.621Z"
   },
   {
    "duration": 82,
    "start_time": "2022-07-18T11:46:39.632Z"
   },
   {
    "duration": 14,
    "start_time": "2022-07-18T11:46:39.719Z"
   },
   {
    "duration": 15,
    "start_time": "2022-07-18T11:46:39.735Z"
   },
   {
    "duration": 21,
    "start_time": "2022-07-18T11:46:39.752Z"
   },
   {
    "duration": 66,
    "start_time": "2022-07-18T11:46:39.774Z"
   },
   {
    "duration": 10,
    "start_time": "2022-07-18T11:46:39.842Z"
   },
   {
    "duration": 6,
    "start_time": "2022-07-18T11:46:39.853Z"
   },
   {
    "duration": 31,
    "start_time": "2022-07-18T11:46:39.861Z"
   },
   {
    "duration": 2566,
    "start_time": "2022-07-18T11:46:39.894Z"
   },
   {
    "duration": 5,
    "start_time": "2022-07-18T11:46:42.462Z"
   },
   {
    "duration": 1383,
    "start_time": "2022-07-18T11:46:42.470Z"
   },
   {
    "duration": 6,
    "start_time": "2022-07-18T11:46:43.856Z"
   },
   {
    "duration": 1545,
    "start_time": "2022-07-18T11:46:43.864Z"
   },
   {
    "duration": 8,
    "start_time": "2022-07-18T11:46:45.415Z"
   },
   {
    "duration": 38,
    "start_time": "2022-07-18T11:46:45.425Z"
   },
   {
    "duration": 49,
    "start_time": "2022-07-18T11:46:45.464Z"
   },
   {
    "duration": 16,
    "start_time": "2022-07-18T11:46:45.525Z"
   },
   {
    "duration": 7,
    "start_time": "2022-07-18T11:46:45.543Z"
   },
   {
    "duration": 17,
    "start_time": "2022-07-18T11:46:45.552Z"
   },
   {
    "duration": 12,
    "start_time": "2022-07-18T11:46:45.571Z"
   },
   {
    "duration": 462,
    "start_time": "2022-07-18T11:46:45.584Z"
   },
   {
    "duration": 25,
    "start_time": "2022-07-18T11:46:46.047Z"
   },
   {
    "duration": 5,
    "start_time": "2022-07-18T11:46:46.074Z"
   },
   {
    "duration": 25,
    "start_time": "2022-07-18T11:46:46.081Z"
   },
   {
    "duration": 32,
    "start_time": "2022-07-18T11:46:46.108Z"
   },
   {
    "duration": 630,
    "start_time": "2022-07-18T11:46:46.142Z"
   },
   {
    "duration": 114058,
    "start_time": "2022-07-18T11:46:46.774Z"
   },
   {
    "duration": 3,
    "start_time": "2022-07-18T11:48:40.836Z"
   },
   {
    "duration": 1063,
    "start_time": "2022-07-18T11:48:40.840Z"
   },
   {
    "duration": 19,
    "start_time": "2022-07-18T11:48:41.904Z"
   },
   {
    "duration": 27,
    "start_time": "2022-07-18T11:48:41.929Z"
   },
   {
    "duration": 3,
    "start_time": "2022-07-18T11:48:41.958Z"
   },
   {
    "duration": 2167,
    "start_time": "2022-07-18T11:48:41.962Z"
   },
   {
    "duration": 4,
    "start_time": "2022-07-18T11:48:44.136Z"
   },
   {
    "duration": 3100,
    "start_time": "2022-07-18T11:48:44.141Z"
   },
   {
    "duration": 9,
    "start_time": "2022-07-18T11:48:47.242Z"
   },
   {
    "duration": 11,
    "start_time": "2022-07-18T11:48:47.254Z"
   },
   {
    "duration": 24,
    "start_time": "2022-07-18T12:21:34.819Z"
   },
   {
    "duration": 5,
    "start_time": "2022-07-18T12:21:38.819Z"
   },
   {
    "duration": 5,
    "start_time": "2022-07-18T12:21:42.020Z"
   },
   {
    "duration": 16,
    "start_time": "2022-07-18T12:32:40.729Z"
   },
   {
    "duration": 11,
    "start_time": "2022-07-18T12:32:46.130Z"
   },
   {
    "duration": 15,
    "start_time": "2022-07-18T12:32:50.879Z"
   },
   {
    "duration": 5,
    "start_time": "2022-07-18T12:32:53.944Z"
   },
   {
    "duration": 6,
    "start_time": "2022-07-18T12:33:48.982Z"
   },
   {
    "duration": 12,
    "start_time": "2022-07-18T12:35:32.206Z"
   },
   {
    "duration": 6,
    "start_time": "2022-07-18T12:35:36.652Z"
   },
   {
    "duration": 120,
    "start_time": "2022-07-18T12:37:16.568Z"
   },
   {
    "duration": 567,
    "start_time": "2022-07-18T12:37:31.293Z"
   },
   {
    "duration": 47,
    "start_time": "2022-07-18T12:37:34.001Z"
   },
   {
    "duration": 5,
    "start_time": "2022-07-18T12:37:36.895Z"
   },
   {
    "duration": 3,
    "start_time": "2022-07-18T12:38:46.096Z"
   },
   {
    "duration": 57,
    "start_time": "2022-07-18T12:38:46.101Z"
   },
   {
    "duration": 4,
    "start_time": "2022-07-18T12:38:46.160Z"
   },
   {
    "duration": 69,
    "start_time": "2022-07-18T12:38:46.166Z"
   },
   {
    "duration": 7,
    "start_time": "2022-07-18T12:38:46.238Z"
   },
   {
    "duration": 7,
    "start_time": "2022-07-18T12:38:46.246Z"
   },
   {
    "duration": 5,
    "start_time": "2022-07-18T12:38:46.254Z"
   },
   {
    "duration": 62,
    "start_time": "2022-07-18T12:38:46.261Z"
   },
   {
    "duration": 13,
    "start_time": "2022-07-18T12:38:46.324Z"
   },
   {
    "duration": 5,
    "start_time": "2022-07-18T12:38:46.339Z"
   },
   {
    "duration": 10,
    "start_time": "2022-07-18T12:38:46.347Z"
   },
   {
    "duration": 2362,
    "start_time": "2022-07-18T12:38:46.358Z"
   },
   {
    "duration": 9,
    "start_time": "2022-07-18T12:38:48.722Z"
   },
   {
    "duration": 1502,
    "start_time": "2022-07-18T12:38:48.733Z"
   },
   {
    "duration": 5,
    "start_time": "2022-07-18T12:38:50.237Z"
   },
   {
    "duration": 1432,
    "start_time": "2022-07-18T12:38:50.243Z"
   },
   {
    "duration": 11,
    "start_time": "2022-07-18T12:38:51.676Z"
   },
   {
    "duration": 24,
    "start_time": "2022-07-18T12:38:51.688Z"
   },
   {
    "duration": 34,
    "start_time": "2022-07-18T12:38:51.721Z"
   },
   {
    "duration": 4,
    "start_time": "2022-07-18T12:38:51.756Z"
   },
   {
    "duration": 6,
    "start_time": "2022-07-18T12:38:51.761Z"
   },
   {
    "duration": 8,
    "start_time": "2022-07-18T12:38:51.768Z"
   },
   {
    "duration": 6,
    "start_time": "2022-07-18T12:38:51.777Z"
   },
   {
    "duration": 320,
    "start_time": "2022-07-18T12:38:51.784Z"
   },
   {
    "duration": 40,
    "start_time": "2022-07-18T12:38:52.108Z"
   },
   {
    "duration": 4,
    "start_time": "2022-07-18T12:38:52.149Z"
   },
   {
    "duration": 5,
    "start_time": "2022-07-18T12:38:52.155Z"
   },
   {
    "duration": 5,
    "start_time": "2022-07-18T12:38:52.161Z"
   },
   {
    "duration": 622,
    "start_time": "2022-07-18T12:38:52.169Z"
   },
   {
    "duration": 107476,
    "start_time": "2022-07-18T12:38:52.793Z"
   },
   {
    "duration": 5,
    "start_time": "2022-07-18T12:40:40.271Z"
   },
   {
    "duration": 1426,
    "start_time": "2022-07-18T12:40:40.278Z"
   },
   {
    "duration": 4,
    "start_time": "2022-07-18T12:40:41.706Z"
   },
   {
    "duration": 30,
    "start_time": "2022-07-18T12:40:41.711Z"
   },
   {
    "duration": 3,
    "start_time": "2022-07-18T12:40:41.743Z"
   },
   {
    "duration": 1962,
    "start_time": "2022-07-18T12:40:41.748Z"
   },
   {
    "duration": 4,
    "start_time": "2022-07-18T12:40:43.716Z"
   },
   {
    "duration": 3095,
    "start_time": "2022-07-18T12:40:43.721Z"
   },
   {
    "duration": 8,
    "start_time": "2022-07-18T12:40:46.818Z"
   },
   {
    "duration": 5,
    "start_time": "2022-07-18T12:40:46.828Z"
   },
   {
    "duration": 3543,
    "start_time": "2022-07-18T12:45:03.658Z"
   },
   {
    "duration": 5,
    "start_time": "2022-07-18T12:45:27.241Z"
   },
   {
    "duration": 5,
    "start_time": "2022-07-18T12:45:32.349Z"
   },
   {
    "duration": 24,
    "start_time": "2022-07-18T12:45:51.326Z"
   },
   {
    "duration": 5,
    "start_time": "2022-07-18T12:45:54.762Z"
   },
   {
    "duration": 8,
    "start_time": "2022-07-18T12:45:57.217Z"
   },
   {
    "duration": 5,
    "start_time": "2022-07-18T12:46:15.380Z"
   },
   {
    "duration": 5,
    "start_time": "2022-07-18T12:46:17.762Z"
   },
   {
    "duration": 5,
    "start_time": "2022-07-18T12:46:30.738Z"
   },
   {
    "duration": 11,
    "start_time": "2022-07-18T12:46:37.427Z"
   },
   {
    "duration": 1655,
    "start_time": "2022-07-18T14:40:00.997Z"
   },
   {
    "duration": 35,
    "start_time": "2022-07-18T14:40:02.655Z"
   },
   {
    "duration": 7,
    "start_time": "2022-07-18T14:40:02.692Z"
   },
   {
    "duration": 148,
    "start_time": "2022-07-18T14:40:02.703Z"
   },
   {
    "duration": 6,
    "start_time": "2022-07-18T14:40:02.853Z"
   },
   {
    "duration": 37,
    "start_time": "2022-07-18T14:40:02.861Z"
   },
   {
    "duration": 89,
    "start_time": "2022-07-18T14:40:02.900Z"
   },
   {
    "duration": 10,
    "start_time": "2022-07-18T14:40:02.990Z"
   },
   {
    "duration": 14,
    "start_time": "2022-07-18T14:40:03.001Z"
   },
   {
    "duration": 46,
    "start_time": "2022-07-18T14:40:03.019Z"
   },
   {
    "duration": 2622,
    "start_time": "2022-07-18T14:40:03.066Z"
   },
   {
    "duration": 5,
    "start_time": "2022-07-18T14:40:05.690Z"
   },
   {
    "duration": 1440,
    "start_time": "2022-07-18T14:40:05.697Z"
   },
   {
    "duration": 6,
    "start_time": "2022-07-18T14:40:07.138Z"
   },
   {
    "duration": 1603,
    "start_time": "2022-07-18T14:40:07.145Z"
   },
   {
    "duration": 11,
    "start_time": "2022-07-18T14:40:08.750Z"
   },
   {
    "duration": 25,
    "start_time": "2022-07-18T14:40:08.763Z"
   },
   {
    "duration": 54,
    "start_time": "2022-07-18T14:40:08.789Z"
   },
   {
    "duration": 13,
    "start_time": "2022-07-18T14:40:08.846Z"
   },
   {
    "duration": 31,
    "start_time": "2022-07-18T14:40:08.860Z"
   },
   {
    "duration": 13,
    "start_time": "2022-07-18T14:40:08.893Z"
   },
   {
    "duration": 150,
    "start_time": "2022-07-18T14:40:08.907Z"
   },
   {
    "duration": 372,
    "start_time": "2022-07-18T14:40:09.059Z"
   },
   {
    "duration": 42,
    "start_time": "2022-07-18T14:40:09.433Z"
   },
   {
    "duration": 4,
    "start_time": "2022-07-18T14:40:09.477Z"
   },
   {
    "duration": 8,
    "start_time": "2022-07-18T14:40:09.482Z"
   },
   {
    "duration": 8,
    "start_time": "2022-07-18T14:40:09.492Z"
   },
   {
    "duration": 635,
    "start_time": "2022-07-18T14:40:09.504Z"
   },
   {
    "duration": 115247,
    "start_time": "2022-07-18T14:40:10.140Z"
   },
   {
    "duration": 3,
    "start_time": "2022-07-18T14:42:05.389Z"
   },
   {
    "duration": 1241,
    "start_time": "2022-07-18T14:42:05.402Z"
   },
   {
    "duration": 66,
    "start_time": "2022-07-18T14:42:06.644Z"
   },
   {
    "duration": 110,
    "start_time": "2022-07-18T14:42:06.719Z"
   },
   {
    "duration": 5,
    "start_time": "2022-07-18T14:42:06.832Z"
   },
   {
    "duration": 2252,
    "start_time": "2022-07-18T14:42:06.842Z"
   },
   {
    "duration": 5,
    "start_time": "2022-07-18T14:42:09.102Z"
   },
   {
    "duration": 3159,
    "start_time": "2022-07-18T14:42:09.109Z"
   },
   {
    "duration": 8,
    "start_time": "2022-07-18T14:42:12.269Z"
   },
   {
    "duration": 125,
    "start_time": "2022-07-18T14:53:51.873Z"
   },
   {
    "duration": 1452,
    "start_time": "2022-07-18T14:54:15.924Z"
   },
   {
    "duration": 46,
    "start_time": "2022-07-18T14:54:17.378Z"
   },
   {
    "duration": 8,
    "start_time": "2022-07-18T14:54:17.427Z"
   },
   {
    "duration": 91,
    "start_time": "2022-07-18T14:54:17.437Z"
   },
   {
    "duration": 8,
    "start_time": "2022-07-18T14:54:17.537Z"
   },
   {
    "duration": 17,
    "start_time": "2022-07-18T14:54:17.547Z"
   },
   {
    "duration": 79,
    "start_time": "2022-07-18T14:54:17.565Z"
   },
   {
    "duration": 16,
    "start_time": "2022-07-18T14:54:17.646Z"
   },
   {
    "duration": 5,
    "start_time": "2022-07-18T14:54:17.664Z"
   },
   {
    "duration": 15,
    "start_time": "2022-07-18T14:54:17.670Z"
   },
   {
    "duration": 2597,
    "start_time": "2022-07-18T14:54:17.687Z"
   },
   {
    "duration": 4,
    "start_time": "2022-07-18T14:54:20.286Z"
   },
   {
    "duration": 1287,
    "start_time": "2022-07-18T14:54:20.291Z"
   },
   {
    "duration": 5,
    "start_time": "2022-07-18T14:54:21.581Z"
   },
   {
    "duration": 1391,
    "start_time": "2022-07-18T14:54:21.587Z"
   },
   {
    "duration": 12,
    "start_time": "2022-07-18T14:54:22.980Z"
   },
   {
    "duration": 14,
    "start_time": "2022-07-18T14:54:23.016Z"
   },
   {
    "duration": 27,
    "start_time": "2022-07-18T14:54:23.031Z"
   },
   {
    "duration": 5,
    "start_time": "2022-07-18T14:54:23.060Z"
   },
   {
    "duration": 11,
    "start_time": "2022-07-18T14:54:23.066Z"
   },
   {
    "duration": 5,
    "start_time": "2022-07-18T14:54:23.079Z"
   },
   {
    "duration": 7,
    "start_time": "2022-07-18T14:54:23.085Z"
   },
   {
    "duration": 452,
    "start_time": "2022-07-18T14:54:23.094Z"
   },
   {
    "duration": 24,
    "start_time": "2022-07-18T14:54:23.547Z"
   },
   {
    "duration": 5,
    "start_time": "2022-07-18T14:54:23.572Z"
   },
   {
    "duration": 6,
    "start_time": "2022-07-18T14:54:23.578Z"
   },
   {
    "duration": 40,
    "start_time": "2022-07-18T14:54:23.585Z"
   },
   {
    "duration": 610,
    "start_time": "2022-07-18T14:54:23.626Z"
   },
   {
    "duration": 106256,
    "start_time": "2022-07-18T14:54:24.237Z"
   },
   {
    "duration": 14,
    "start_time": "2022-07-18T14:56:10.495Z"
   },
   {
    "duration": 1191,
    "start_time": "2022-07-18T14:56:10.518Z"
   },
   {
    "duration": 5,
    "start_time": "2022-07-18T14:56:11.712Z"
   },
   {
    "duration": 99,
    "start_time": "2022-07-18T14:56:11.721Z"
   },
   {
    "duration": 14,
    "start_time": "2022-07-18T14:56:11.822Z"
   },
   {
    "duration": 1992,
    "start_time": "2022-07-18T14:56:11.838Z"
   },
   {
    "duration": 4,
    "start_time": "2022-07-18T14:56:13.839Z"
   },
   {
    "duration": 2837,
    "start_time": "2022-07-18T14:56:13.844Z"
   },
   {
    "duration": 8,
    "start_time": "2022-07-18T14:56:16.683Z"
   },
   {
    "duration": 1704,
    "start_time": "2022-07-18T19:43:35.219Z"
   },
   {
    "duration": 68,
    "start_time": "2022-07-18T19:43:36.925Z"
   },
   {
    "duration": 5,
    "start_time": "2022-07-18T19:43:36.995Z"
   },
   {
    "duration": 54,
    "start_time": "2022-07-18T19:43:37.001Z"
   },
   {
    "duration": 6,
    "start_time": "2022-07-18T19:43:37.057Z"
   },
   {
    "duration": 4,
    "start_time": "2022-07-18T19:43:37.065Z"
   },
   {
    "duration": 54,
    "start_time": "2022-07-18T19:43:37.071Z"
   },
   {
    "duration": 10,
    "start_time": "2022-07-18T19:43:37.127Z"
   },
   {
    "duration": 22,
    "start_time": "2022-07-18T19:43:37.138Z"
   },
   {
    "duration": 9,
    "start_time": "2022-07-18T19:43:37.162Z"
   },
   {
    "duration": 2297,
    "start_time": "2022-07-18T19:43:37.172Z"
   },
   {
    "duration": 4,
    "start_time": "2022-07-18T19:43:39.470Z"
   },
   {
    "duration": 1227,
    "start_time": "2022-07-18T19:43:39.475Z"
   },
   {
    "duration": 5,
    "start_time": "2022-07-18T19:43:40.706Z"
   },
   {
    "duration": 1384,
    "start_time": "2022-07-18T19:43:40.713Z"
   },
   {
    "duration": 11,
    "start_time": "2022-07-18T19:43:42.099Z"
   },
   {
    "duration": 8,
    "start_time": "2022-07-18T19:43:42.111Z"
   },
   {
    "duration": 40,
    "start_time": "2022-07-18T19:43:42.120Z"
   },
   {
    "duration": 4,
    "start_time": "2022-07-18T19:43:42.162Z"
   },
   {
    "duration": 10,
    "start_time": "2022-07-18T19:43:42.168Z"
   },
   {
    "duration": 7,
    "start_time": "2022-07-18T19:43:42.179Z"
   },
   {
    "duration": 6,
    "start_time": "2022-07-18T19:43:42.188Z"
   },
   {
    "duration": 413,
    "start_time": "2022-07-18T19:43:42.195Z"
   },
   {
    "duration": 26,
    "start_time": "2022-07-18T19:43:42.610Z"
   },
   {
    "duration": 4,
    "start_time": "2022-07-18T19:43:42.637Z"
   },
   {
    "duration": 21,
    "start_time": "2022-07-18T19:43:42.643Z"
   },
   {
    "duration": 9,
    "start_time": "2022-07-18T19:43:42.665Z"
   },
   {
    "duration": 555,
    "start_time": "2022-07-18T19:43:42.676Z"
   },
   {
    "duration": 105771,
    "start_time": "2022-07-18T19:43:43.232Z"
   },
   {
    "duration": 2,
    "start_time": "2022-07-18T19:45:29.004Z"
   },
   {
    "duration": 1653,
    "start_time": "2022-07-18T19:45:29.008Z"
   },
   {
    "duration": 4,
    "start_time": "2022-07-18T19:45:30.663Z"
   },
   {
    "duration": 44,
    "start_time": "2022-07-18T19:45:30.668Z"
   },
   {
    "duration": 11,
    "start_time": "2022-07-18T19:45:30.714Z"
   },
   {
    "duration": 1975,
    "start_time": "2022-07-18T19:45:30.726Z"
   },
   {
    "duration": 5,
    "start_time": "2022-07-18T19:45:32.703Z"
   },
   {
    "duration": 2845,
    "start_time": "2022-07-18T19:45:32.709Z"
   },
   {
    "duration": 8,
    "start_time": "2022-07-18T19:45:35.560Z"
   },
   {
    "duration": 77,
    "start_time": "2022-07-18T19:59:20.839Z"
   },
   {
    "duration": 48,
    "start_time": "2022-07-21T07:39:09.043Z"
   },
   {
    "duration": 1630,
    "start_time": "2022-07-21T07:39:18.356Z"
   },
   {
    "duration": 126,
    "start_time": "2022-07-21T07:39:19.988Z"
   },
   {
    "duration": 5,
    "start_time": "2022-07-21T07:39:20.116Z"
   },
   {
    "duration": 81,
    "start_time": "2022-07-21T07:39:20.124Z"
   },
   {
    "duration": 9,
    "start_time": "2022-07-21T07:39:20.207Z"
   },
   {
    "duration": 19,
    "start_time": "2022-07-21T07:39:20.218Z"
   },
   {
    "duration": 49,
    "start_time": "2022-07-21T07:39:20.239Z"
   },
   {
    "duration": 12,
    "start_time": "2022-07-21T07:39:20.303Z"
   },
   {
    "duration": 4,
    "start_time": "2022-07-21T07:39:20.317Z"
   },
   {
    "duration": 13,
    "start_time": "2022-07-21T07:39:20.323Z"
   },
   {
    "duration": 2723,
    "start_time": "2022-07-21T07:39:20.338Z"
   },
   {
    "duration": 4,
    "start_time": "2022-07-21T07:39:23.063Z"
   },
   {
    "duration": 1431,
    "start_time": "2022-07-21T07:39:23.069Z"
   },
   {
    "duration": 6,
    "start_time": "2022-07-21T07:39:24.505Z"
   },
   {
    "duration": 1523,
    "start_time": "2022-07-21T07:39:24.513Z"
   },
   {
    "duration": 12,
    "start_time": "2022-07-21T07:39:26.038Z"
   },
   {
    "duration": 9,
    "start_time": "2022-07-21T07:39:26.053Z"
   },
   {
    "duration": 7,
    "start_time": "2022-07-21T07:39:26.064Z"
   },
   {
    "duration": 58,
    "start_time": "2022-07-21T07:39:26.073Z"
   },
   {
    "duration": 7,
    "start_time": "2022-07-21T07:39:26.133Z"
   },
   {
    "duration": 15,
    "start_time": "2022-07-21T07:39:26.142Z"
   },
   {
    "duration": 165,
    "start_time": "2022-07-21T07:39:26.159Z"
   },
   {
    "duration": 9,
    "start_time": "2022-07-21T07:39:26.326Z"
   },
   {
    "duration": 389,
    "start_time": "2022-07-21T07:39:26.337Z"
   },
   {
    "duration": 37,
    "start_time": "2022-07-21T07:39:26.728Z"
   },
   {
    "duration": 6,
    "start_time": "2022-07-21T07:39:26.767Z"
   },
   {
    "duration": 29,
    "start_time": "2022-07-21T07:39:26.775Z"
   },
   {
    "duration": 8,
    "start_time": "2022-07-21T07:39:26.810Z"
   },
   {
    "duration": 625,
    "start_time": "2022-07-21T07:39:26.820Z"
   },
   {
    "duration": 118635,
    "start_time": "2022-07-21T07:39:27.446Z"
   },
   {
    "duration": 3,
    "start_time": "2022-07-21T07:41:26.083Z"
   },
   {
    "duration": 1120,
    "start_time": "2022-07-21T07:41:26.087Z"
   },
   {
    "duration": 3,
    "start_time": "2022-07-21T07:41:27.210Z"
   },
   {
    "duration": 116,
    "start_time": "2022-07-21T07:41:27.217Z"
   },
   {
    "duration": 11,
    "start_time": "2022-07-21T07:41:27.335Z"
   },
   {
    "duration": 2277,
    "start_time": "2022-07-21T07:41:27.347Z"
   },
   {
    "duration": 5,
    "start_time": "2022-07-21T07:41:29.626Z"
   },
   {
    "duration": 3205,
    "start_time": "2022-07-21T07:41:29.632Z"
   },
   {
    "duration": 10,
    "start_time": "2022-07-21T07:41:32.839Z"
   },
   {
    "duration": 97,
    "start_time": "2022-07-21T07:41:32.850Z"
   },
   {
    "duration": 0,
    "start_time": "2022-07-21T07:41:32.949Z"
   },
   {
    "duration": 4,
    "start_time": "2022-07-21T07:44:20.330Z"
   },
   {
    "duration": 85,
    "start_time": "2022-07-21T07:47:44.164Z"
   },
   {
    "duration": 93,
    "start_time": "2022-07-21T07:48:08.892Z"
   },
   {
    "duration": 75,
    "start_time": "2022-07-21T07:48:26.197Z"
   }
  ],
  "kernelspec": {
   "display_name": "Python 3 (ipykernel)",
   "language": "python",
   "name": "python3"
  },
  "language_info": {
   "codemirror_mode": {
    "name": "ipython",
    "version": 3
   },
   "file_extension": ".py",
   "mimetype": "text/x-python",
   "name": "python",
   "nbconvert_exporter": "python",
   "pygments_lexer": "ipython3",
   "version": "3.9.12"
  },
  "toc": {
   "base_numbering": 1,
   "nav_menu": {},
   "number_sections": true,
   "sideBar": true,
   "skip_h1_title": true,
   "title_cell": "Table of Contents",
   "title_sidebar": "Contents",
   "toc_cell": false,
   "toc_position": {},
   "toc_section_display": true,
   "toc_window_display": false
  }
 },
 "nbformat": 4,
 "nbformat_minor": 2
}
